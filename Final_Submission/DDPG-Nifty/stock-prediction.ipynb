{
 "cells": [
  {
   "cell_type": "code",
   "execution_count": 64,
   "metadata": {},
   "outputs": [],
   "source": [
    "import numpy as np\n",
    "import tensorflow as tf\n",
    "import pandas as pd\n",
    "import matplotlib.pyplot as plt\n",
    "import yfinance as yf"
   ]
  },
  {
   "cell_type": "code",
   "execution_count": 65,
   "metadata": {},
   "outputs": [
    {
     "name": "stderr",
     "output_type": "stream",
     "text": [
      "[*********************100%%**********************]  1 of 1 completed\n"
     ]
    }
   ],
   "source": [
    "nifty50_index_symbol = '^NSEI'\n",
    "\n",
    "start_date = '2010-01-01'\n",
    "end_date = '2019-06-30'\n",
    "\n",
    "data = yf.download(nifty50_index_symbol, start=start_date, end=end_date)"
   ]
  },
  {
   "cell_type": "code",
   "execution_count": 66,
   "metadata": {},
   "outputs": [
    {
     "data": {
      "text/html": [
       "<div>\n",
       "<style scoped>\n",
       "    .dataframe tbody tr th:only-of-type {\n",
       "        vertical-align: middle;\n",
       "    }\n",
       "\n",
       "    .dataframe tbody tr th {\n",
       "        vertical-align: top;\n",
       "    }\n",
       "\n",
       "    .dataframe thead th {\n",
       "        text-align: right;\n",
       "    }\n",
       "</style>\n",
       "<table border=\"1\" class=\"dataframe\">\n",
       "  <thead>\n",
       "    <tr style=\"text-align: right;\">\n",
       "      <th></th>\n",
       "      <th>Open</th>\n",
       "      <th>High</th>\n",
       "      <th>Low</th>\n",
       "      <th>Close</th>\n",
       "      <th>Adj Close</th>\n",
       "      <th>Volume</th>\n",
       "    </tr>\n",
       "  </thead>\n",
       "  <tbody>\n",
       "    <tr>\n",
       "      <th>count</th>\n",
       "      <td>2321.000000</td>\n",
       "      <td>2321.000000</td>\n",
       "      <td>2321.000000</td>\n",
       "      <td>2321.000000</td>\n",
       "      <td>2321.000000</td>\n",
       "      <td>2321.000000</td>\n",
       "    </tr>\n",
       "    <tr>\n",
       "      <th>mean</th>\n",
       "      <td>7561.167236</td>\n",
       "      <td>7598.586197</td>\n",
       "      <td>7512.571021</td>\n",
       "      <td>7555.766634</td>\n",
       "      <td>7555.766634</td>\n",
       "      <td>136968.849634</td>\n",
       "    </tr>\n",
       "    <tr>\n",
       "      <th>std</th>\n",
       "      <td>2084.658066</td>\n",
       "      <td>2086.080772</td>\n",
       "      <td>2077.707855</td>\n",
       "      <td>2081.917797</td>\n",
       "      <td>2081.917797</td>\n",
       "      <td>117889.153660</td>\n",
       "    </tr>\n",
       "    <tr>\n",
       "      <th>min</th>\n",
       "      <td>4623.149902</td>\n",
       "      <td>4623.149902</td>\n",
       "      <td>4531.149902</td>\n",
       "      <td>4544.200195</td>\n",
       "      <td>4544.200195</td>\n",
       "      <td>0.000000</td>\n",
       "    </tr>\n",
       "    <tr>\n",
       "      <th>25%</th>\n",
       "      <td>5633.799805</td>\n",
       "      <td>5659.850098</td>\n",
       "      <td>5586.450195</td>\n",
       "      <td>5627.750000</td>\n",
       "      <td>5627.750000</td>\n",
       "      <td>0.000000</td>\n",
       "    </tr>\n",
       "    <tr>\n",
       "      <th>50%</th>\n",
       "      <td>7630.250000</td>\n",
       "      <td>7673.700195</td>\n",
       "      <td>7579.299805</td>\n",
       "      <td>7614.350098</td>\n",
       "      <td>7614.350098</td>\n",
       "      <td>148800.000000</td>\n",
       "    </tr>\n",
       "    <tr>\n",
       "      <th>75%</th>\n",
       "      <td>8914.500000</td>\n",
       "      <td>8957.049805</td>\n",
       "      <td>8867.599609</td>\n",
       "      <td>8914.299805</td>\n",
       "      <td>8914.299805</td>\n",
       "      <td>200900.000000</td>\n",
       "    </tr>\n",
       "    <tr>\n",
       "      <th>max</th>\n",
       "      <td>12052.650391</td>\n",
       "      <td>12103.049805</td>\n",
       "      <td>12005.849609</td>\n",
       "      <td>12088.549805</td>\n",
       "      <td>12088.549805</td>\n",
       "      <td>719000.000000</td>\n",
       "    </tr>\n",
       "  </tbody>\n",
       "</table>\n",
       "</div>"
      ],
      "text/plain": [
       "               Open          High           Low         Close     Adj Close  \\\n",
       "count   2321.000000   2321.000000   2321.000000   2321.000000   2321.000000   \n",
       "mean    7561.167236   7598.586197   7512.571021   7555.766634   7555.766634   \n",
       "std     2084.658066   2086.080772   2077.707855   2081.917797   2081.917797   \n",
       "min     4623.149902   4623.149902   4531.149902   4544.200195   4544.200195   \n",
       "25%     5633.799805   5659.850098   5586.450195   5627.750000   5627.750000   \n",
       "50%     7630.250000   7673.700195   7579.299805   7614.350098   7614.350098   \n",
       "75%     8914.500000   8957.049805   8867.599609   8914.299805   8914.299805   \n",
       "max    12052.650391  12103.049805  12005.849609  12088.549805  12088.549805   \n",
       "\n",
       "              Volume  \n",
       "count    2321.000000  \n",
       "mean   136968.849634  \n",
       "std    117889.153660  \n",
       "min         0.000000  \n",
       "25%         0.000000  \n",
       "50%    148800.000000  \n",
       "75%    200900.000000  \n",
       "max    719000.000000  "
      ]
     },
     "execution_count": 66,
     "metadata": {},
     "output_type": "execute_result"
    }
   ],
   "source": [
    "data.describe()"
   ]
  },
  {
   "cell_type": "code",
   "execution_count": 67,
   "metadata": {},
   "outputs": [],
   "source": [
    "def normalisation(col):\n",
    "    new_col = (col - min(col))/(max(col) - min(col))\n",
    "    return new_col"
   ]
  },
  {
   "cell_type": "code",
   "execution_count": 68,
   "metadata": {},
   "outputs": [],
   "source": [
    "df = data[['Close']]"
   ]
  },
  {
   "cell_type": "code",
   "execution_count": 69,
   "metadata": {},
   "outputs": [
    {
     "name": "stderr",
     "output_type": "stream",
     "text": [
      "/var/folders/41/13h1j2zj3plb9jjbs7dzx75c0000gn/T/ipykernel_32093/514820066.py:2: SettingWithCopyWarning: \n",
      "A value is trying to be set on a copy of a slice from a DataFrame.\n",
      "Try using .loc[row_indexer,col_indexer] = value instead\n",
      "\n",
      "See the caveats in the documentation: https://pandas.pydata.org/pandas-docs/stable/user_guide/indexing.html#returning-a-view-versus-a-copy\n",
      "  df[col] = normalisation(df[col])\n"
     ]
    }
   ],
   "source": [
    "for col in df.columns:\n",
    "    df[col] = normalisation(df[col])"
   ]
  },
  {
   "cell_type": "code",
   "execution_count": 70,
   "metadata": {},
   "outputs": [
    {
     "data": {
      "text/html": [
       "<div>\n",
       "<style scoped>\n",
       "    .dataframe tbody tr th:only-of-type {\n",
       "        vertical-align: middle;\n",
       "    }\n",
       "\n",
       "    .dataframe tbody tr th {\n",
       "        vertical-align: top;\n",
       "    }\n",
       "\n",
       "    .dataframe thead th {\n",
       "        text-align: right;\n",
       "    }\n",
       "</style>\n",
       "<table border=\"1\" class=\"dataframe\">\n",
       "  <thead>\n",
       "    <tr style=\"text-align: right;\">\n",
       "      <th></th>\n",
       "      <th>Close</th>\n",
       "    </tr>\n",
       "    <tr>\n",
       "      <th>Date</th>\n",
       "      <th></th>\n",
       "    </tr>\n",
       "  </thead>\n",
       "  <tbody>\n",
       "    <tr>\n",
       "      <th>2010-01-04</th>\n",
       "      <td>0.091194</td>\n",
       "    </tr>\n",
       "    <tr>\n",
       "      <th>2010-01-05</th>\n",
       "      <td>0.097252</td>\n",
       "    </tr>\n",
       "    <tr>\n",
       "      <th>2010-01-06</th>\n",
       "      <td>0.097768</td>\n",
       "    </tr>\n",
       "    <tr>\n",
       "      <th>2010-01-07</th>\n",
       "      <td>0.095290</td>\n",
       "    </tr>\n",
       "    <tr>\n",
       "      <th>2010-01-08</th>\n",
       "      <td>0.092858</td>\n",
       "    </tr>\n",
       "    <tr>\n",
       "      <th>...</th>\n",
       "      <td>...</td>\n",
       "    </tr>\n",
       "    <tr>\n",
       "      <th>2019-06-24</th>\n",
       "      <td>0.948452</td>\n",
       "    </tr>\n",
       "    <tr>\n",
       "      <th>2019-06-25</th>\n",
       "      <td>0.961282</td>\n",
       "    </tr>\n",
       "    <tr>\n",
       "      <th>2019-06-26</th>\n",
       "      <td>0.968056</td>\n",
       "    </tr>\n",
       "    <tr>\n",
       "      <th>2019-06-27</th>\n",
       "      <td>0.967260</td>\n",
       "    </tr>\n",
       "    <tr>\n",
       "      <th>2019-06-28</th>\n",
       "      <td>0.960275</td>\n",
       "    </tr>\n",
       "  </tbody>\n",
       "</table>\n",
       "<p>2321 rows × 1 columns</p>\n",
       "</div>"
      ],
      "text/plain": [
       "               Close\n",
       "Date                \n",
       "2010-01-04  0.091194\n",
       "2010-01-05  0.097252\n",
       "2010-01-06  0.097768\n",
       "2010-01-07  0.095290\n",
       "2010-01-08  0.092858\n",
       "...              ...\n",
       "2019-06-24  0.948452\n",
       "2019-06-25  0.961282\n",
       "2019-06-26  0.968056\n",
       "2019-06-27  0.967260\n",
       "2019-06-28  0.960275\n",
       "\n",
       "[2321 rows x 1 columns]"
      ]
     },
     "execution_count": 70,
     "metadata": {},
     "output_type": "execute_result"
    }
   ],
   "source": [
    "df"
   ]
  },
  {
   "cell_type": "code",
   "execution_count": 73,
   "metadata": {},
   "outputs": [],
   "source": [
    "data_arr = df.to_numpy()"
   ]
  },
  {
   "cell_type": "code",
   "execution_count": 74,
   "metadata": {},
   "outputs": [
    {
     "data": {
      "text/plain": [
       "(2321, 1)"
      ]
     },
     "execution_count": 74,
     "metadata": {},
     "output_type": "execute_result"
    }
   ],
   "source": [
    "data_arr.shape"
   ]
  }
 ],
 "metadata": {
  "kernelspec": {
   "display_name": "venv",
   "language": "python",
   "name": "python3"
  },
  "language_info": {
   "codemirror_mode": {
    "name": "ipython",
    "version": 3
   },
   "file_extension": ".py",
   "mimetype": "text/x-python",
   "name": "python",
   "nbconvert_exporter": "python",
   "pygments_lexer": "ipython3",
   "version": "3.9.6"
  }
 },
 "nbformat": 4,
 "nbformat_minor": 2
}
