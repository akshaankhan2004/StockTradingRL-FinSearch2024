{
 "cells": [
  {
   "cell_type": "code",
   "execution_count": 229,
   "metadata": {},
   "outputs": [],
   "source": [
    "import numpy as np\n",
    "import tensorflow as tf\n",
    "import pandas as pd\n",
    "import matplotlib.pyplot as plt\n",
    "import yfinance as yf\n",
    "from copy import copy"
   ]
  },
  {
   "cell_type": "code",
   "execution_count": 230,
   "metadata": {},
   "outputs": [
    {
     "name": "stderr",
     "output_type": "stream",
     "text": [
      "[*********************100%%**********************]  1 of 1 completed\n"
     ]
    }
   ],
   "source": [
    "nifty50_index_symbol = '^NSEI'\n",
    "\n",
    "start_date = '2010-01-01'\n",
    "end_date = '2019-06-30'\n",
    "\n",
    "data = yf.download(nifty50_index_symbol, start=start_date, end=end_date)"
   ]
  },
  {
   "cell_type": "code",
   "execution_count": 231,
   "metadata": {},
   "outputs": [
    {
     "data": {
      "text/html": [
       "<div>\n",
       "<style scoped>\n",
       "    .dataframe tbody tr th:only-of-type {\n",
       "        vertical-align: middle;\n",
       "    }\n",
       "\n",
       "    .dataframe tbody tr th {\n",
       "        vertical-align: top;\n",
       "    }\n",
       "\n",
       "    .dataframe thead th {\n",
       "        text-align: right;\n",
       "    }\n",
       "</style>\n",
       "<table border=\"1\" class=\"dataframe\">\n",
       "  <thead>\n",
       "    <tr style=\"text-align: right;\">\n",
       "      <th></th>\n",
       "      <th>Open</th>\n",
       "      <th>High</th>\n",
       "      <th>Low</th>\n",
       "      <th>Close</th>\n",
       "      <th>Adj Close</th>\n",
       "      <th>Volume</th>\n",
       "    </tr>\n",
       "  </thead>\n",
       "  <tbody>\n",
       "    <tr>\n",
       "      <th>count</th>\n",
       "      <td>2321.000000</td>\n",
       "      <td>2321.000000</td>\n",
       "      <td>2321.000000</td>\n",
       "      <td>2321.000000</td>\n",
       "      <td>2321.000000</td>\n",
       "      <td>2321.000000</td>\n",
       "    </tr>\n",
       "    <tr>\n",
       "      <th>mean</th>\n",
       "      <td>7561.167236</td>\n",
       "      <td>7598.586197</td>\n",
       "      <td>7512.571021</td>\n",
       "      <td>7555.766634</td>\n",
       "      <td>7555.766634</td>\n",
       "      <td>136968.849634</td>\n",
       "    </tr>\n",
       "    <tr>\n",
       "      <th>std</th>\n",
       "      <td>2084.658066</td>\n",
       "      <td>2086.080772</td>\n",
       "      <td>2077.707855</td>\n",
       "      <td>2081.917797</td>\n",
       "      <td>2081.917797</td>\n",
       "      <td>117889.153660</td>\n",
       "    </tr>\n",
       "    <tr>\n",
       "      <th>min</th>\n",
       "      <td>4623.149902</td>\n",
       "      <td>4623.149902</td>\n",
       "      <td>4531.149902</td>\n",
       "      <td>4544.200195</td>\n",
       "      <td>4544.200195</td>\n",
       "      <td>0.000000</td>\n",
       "    </tr>\n",
       "    <tr>\n",
       "      <th>25%</th>\n",
       "      <td>5633.799805</td>\n",
       "      <td>5659.850098</td>\n",
       "      <td>5586.450195</td>\n",
       "      <td>5627.750000</td>\n",
       "      <td>5627.750000</td>\n",
       "      <td>0.000000</td>\n",
       "    </tr>\n",
       "    <tr>\n",
       "      <th>50%</th>\n",
       "      <td>7630.250000</td>\n",
       "      <td>7673.700195</td>\n",
       "      <td>7579.299805</td>\n",
       "      <td>7614.350098</td>\n",
       "      <td>7614.350098</td>\n",
       "      <td>148800.000000</td>\n",
       "    </tr>\n",
       "    <tr>\n",
       "      <th>75%</th>\n",
       "      <td>8914.500000</td>\n",
       "      <td>8957.049805</td>\n",
       "      <td>8867.599609</td>\n",
       "      <td>8914.299805</td>\n",
       "      <td>8914.299805</td>\n",
       "      <td>200900.000000</td>\n",
       "    </tr>\n",
       "    <tr>\n",
       "      <th>max</th>\n",
       "      <td>12052.650391</td>\n",
       "      <td>12103.049805</td>\n",
       "      <td>12005.849609</td>\n",
       "      <td>12088.549805</td>\n",
       "      <td>12088.549805</td>\n",
       "      <td>719000.000000</td>\n",
       "    </tr>\n",
       "  </tbody>\n",
       "</table>\n",
       "</div>"
      ],
      "text/plain": [
       "               Open          High           Low         Close     Adj Close  \\\n",
       "count   2321.000000   2321.000000   2321.000000   2321.000000   2321.000000   \n",
       "mean    7561.167236   7598.586197   7512.571021   7555.766634   7555.766634   \n",
       "std     2084.658066   2086.080772   2077.707855   2081.917797   2081.917797   \n",
       "min     4623.149902   4623.149902   4531.149902   4544.200195   4544.200195   \n",
       "25%     5633.799805   5659.850098   5586.450195   5627.750000   5627.750000   \n",
       "50%     7630.250000   7673.700195   7579.299805   7614.350098   7614.350098   \n",
       "75%     8914.500000   8957.049805   8867.599609   8914.299805   8914.299805   \n",
       "max    12052.650391  12103.049805  12005.849609  12088.549805  12088.549805   \n",
       "\n",
       "              Volume  \n",
       "count    2321.000000  \n",
       "mean   136968.849634  \n",
       "std    117889.153660  \n",
       "min         0.000000  \n",
       "25%         0.000000  \n",
       "50%    148800.000000  \n",
       "75%    200900.000000  \n",
       "max    719000.000000  "
      ]
     },
     "execution_count": 231,
     "metadata": {},
     "output_type": "execute_result"
    }
   ],
   "source": [
    "data.describe()"
   ]
  },
  {
   "cell_type": "code",
   "execution_count": 232,
   "metadata": {},
   "outputs": [],
   "source": [
    "def normalisation(col):\n",
    "    new_col = (col - min(col))/(max(col) - min(col)) + 0.01  # for non zero stock prices\n",
    "    return new_col"
   ]
  },
  {
   "cell_type": "code",
   "execution_count": 233,
   "metadata": {},
   "outputs": [],
   "source": [
    "df = data[['Close']]"
   ]
  },
  {
   "cell_type": "code",
   "execution_count": 234,
   "metadata": {},
   "outputs": [
    {
     "name": "stderr",
     "output_type": "stream",
     "text": [
      "/var/folders/41/13h1j2zj3plb9jjbs7dzx75c0000gn/T/ipykernel_15705/514820066.py:2: SettingWithCopyWarning: \n",
      "A value is trying to be set on a copy of a slice from a DataFrame.\n",
      "Try using .loc[row_indexer,col_indexer] = value instead\n",
      "\n",
      "See the caveats in the documentation: https://pandas.pydata.org/pandas-docs/stable/user_guide/indexing.html#returning-a-view-versus-a-copy\n",
      "  df[col] = normalisation(df[col])\n"
     ]
    }
   ],
   "source": [
    "for col in df.columns:\n",
    "    df[col] = normalisation(df[col])"
   ]
  },
  {
   "cell_type": "code",
   "execution_count": 235,
   "metadata": {},
   "outputs": [
    {
     "data": {
      "text/html": [
       "<div>\n",
       "<style scoped>\n",
       "    .dataframe tbody tr th:only-of-type {\n",
       "        vertical-align: middle;\n",
       "    }\n",
       "\n",
       "    .dataframe tbody tr th {\n",
       "        vertical-align: top;\n",
       "    }\n",
       "\n",
       "    .dataframe thead th {\n",
       "        text-align: right;\n",
       "    }\n",
       "</style>\n",
       "<table border=\"1\" class=\"dataframe\">\n",
       "  <thead>\n",
       "    <tr style=\"text-align: right;\">\n",
       "      <th></th>\n",
       "      <th>Close</th>\n",
       "    </tr>\n",
       "    <tr>\n",
       "      <th>Date</th>\n",
       "      <th></th>\n",
       "    </tr>\n",
       "  </thead>\n",
       "  <tbody>\n",
       "    <tr>\n",
       "      <th>2010-01-04</th>\n",
       "      <td>0.101194</td>\n",
       "    </tr>\n",
       "    <tr>\n",
       "      <th>2010-01-05</th>\n",
       "      <td>0.107252</td>\n",
       "    </tr>\n",
       "    <tr>\n",
       "      <th>2010-01-06</th>\n",
       "      <td>0.107768</td>\n",
       "    </tr>\n",
       "    <tr>\n",
       "      <th>2010-01-07</th>\n",
       "      <td>0.105290</td>\n",
       "    </tr>\n",
       "    <tr>\n",
       "      <th>2010-01-08</th>\n",
       "      <td>0.102858</td>\n",
       "    </tr>\n",
       "    <tr>\n",
       "      <th>...</th>\n",
       "      <td>...</td>\n",
       "    </tr>\n",
       "    <tr>\n",
       "      <th>2012-06-05</th>\n",
       "      <td>0.052297</td>\n",
       "    </tr>\n",
       "    <tr>\n",
       "      <th>2012-06-06</th>\n",
       "      <td>0.070032</td>\n",
       "    </tr>\n",
       "    <tr>\n",
       "      <th>2012-06-07</th>\n",
       "      <td>0.076997</td>\n",
       "    </tr>\n",
       "    <tr>\n",
       "      <th>2012-06-08</th>\n",
       "      <td>0.079476</td>\n",
       "    </tr>\n",
       "    <tr>\n",
       "      <th>2012-06-11</th>\n",
       "      <td>0.077587</td>\n",
       "    </tr>\n",
       "  </tbody>\n",
       "</table>\n",
       "<p>600 rows × 1 columns</p>\n",
       "</div>"
      ],
      "text/plain": [
       "               Close\n",
       "Date                \n",
       "2010-01-04  0.101194\n",
       "2010-01-05  0.107252\n",
       "2010-01-06  0.107768\n",
       "2010-01-07  0.105290\n",
       "2010-01-08  0.102858\n",
       "...              ...\n",
       "2012-06-05  0.052297\n",
       "2012-06-06  0.070032\n",
       "2012-06-07  0.076997\n",
       "2012-06-08  0.079476\n",
       "2012-06-11  0.077587\n",
       "\n",
       "[600 rows x 1 columns]"
      ]
     },
     "execution_count": 235,
     "metadata": {},
     "output_type": "execute_result"
    }
   ],
   "source": [
    "df[:600]"
   ]
  },
  {
   "cell_type": "code",
   "execution_count": 236,
   "metadata": {},
   "outputs": [],
   "source": [
    "data_arr = df[:600].to_numpy()"
   ]
  },
  {
   "cell_type": "code",
   "execution_count": 237,
   "metadata": {},
   "outputs": [],
   "source": [
    "data_arr = data_arr.reshape((data_arr.shape[0], ))"
   ]
  },
  {
   "cell_type": "code",
   "execution_count": 238,
   "metadata": {},
   "outputs": [
    {
     "data": {
      "text/plain": [
       "(600,)"
      ]
     },
     "execution_count": 238,
     "metadata": {},
     "output_type": "execute_result"
    }
   ],
   "source": [
    "data_arr.shape"
   ]
  },
  {
   "cell_type": "code",
   "execution_count": 239,
   "metadata": {},
   "outputs": [],
   "source": [
    "# data_arr = data_arr[:600]"
   ]
  },
  {
   "cell_type": "code",
   "execution_count": 240,
   "metadata": {},
   "outputs": [
    {
     "data": {
      "text/plain": [
       "[<matplotlib.lines.Line2D at 0x30633a0d0>]"
      ]
     },
     "execution_count": 240,
     "metadata": {},
     "output_type": "execute_result"
    },
    {
     "data": {
      "image/png": "[encoded data removed]",
      "text/plain": [
       "<Figure size 640x480 with 1 Axes>"
      ]
     },
     "metadata": {},
     "output_type": "display_data"
    }
   ],
   "source": [
    "plt.plot(data_arr)"
   ]
  },
  {
   "cell_type": "code",
   "execution_count": 241,
   "metadata": {},
   "outputs": [],
   "source": [
    "class StockMarketEnvironment:\n",
    "    # action == 0-buy, 1-sell, 2-hold\n",
    "    def __init__(self, starting_balance, data):\n",
    "        self.data = data\n",
    "        self.starting_balance = starting_balance\n",
    "        self.balance = starting_balance\n",
    "        self.stocks = 0\n",
    "        self.portfolio = self.balance\n",
    "        self.time_step = 0\n",
    "        self.end = False\n",
    "        self.state = np.array([self.balance, self.stocks, self.data[self.time_step]])\n",
    "    \n",
    "    def reset(self):\n",
    "        self.balance = self.starting_balance\n",
    "        self.stocks = 0\n",
    "        self.portfolio = self.balance\n",
    "        self.time_step = 0\n",
    "        self.end = False\n",
    "        self.state = np.array([self.balance, self.stocks, self.data[self.time_step]])\n",
    "\n",
    "    def step(self, action):\n",
    "        curr_state = self.state\n",
    "        if action == 0:\n",
    "            num_poss_buy = int(self.balance / curr_state[2])\n",
    "            self.stocks += num_poss_buy\n",
    "            self.balance -= num_poss_buy * curr_state[2]\n",
    "        if action == 1:\n",
    "            num_poss_sell = self.stocks\n",
    "            self.stocks -= num_poss_sell\n",
    "            self.balance += num_poss_sell * curr_state[2]\n",
    "            \n",
    "        next_time_state = self.time_step + 1\n",
    "        if next_time_state >= self.data.shape[0] - 1:\n",
    "            self.end = True\n",
    "        next_state = np.array([self.balance, self.stocks, self.data[next_time_state]])\n",
    "\n",
    "        self.portfolio = self.balance + self.stocks * curr_state[2]\n",
    "        next_portfolio = self.balance + self.stocks * next_state[2]\n",
    "\n",
    "        reward = next_portfolio - self.portfolio\n",
    "\n",
    "        self.state = next_state\n",
    "        self.portfolio = next_portfolio\n",
    "        self.time_step += 1\n",
    "\n",
    "        return (self.state, reward, self.end)\n",
    "    \n",
    "    def is_end(self):\n",
    "        return self.end"
   ]
  },
  {
   "cell_type": "code",
   "execution_count": 242,
   "metadata": {},
   "outputs": [],
   "source": [
    "def get_q_model(layers_shapes):\n",
    "    input = tf.keras.Input(shape = (layers_shapes[0],))\n",
    "    x = input\n",
    "    for shape in layers_shapes[1:-1]:\n",
    "        x = tf.keras.layers.Dense(shape, activation = 'relu')(x)\n",
    "    output = tf.keras.layers.Dense(layers_shapes[-1])(x)\n",
    "    model = tf.keras.Model(input, output)\n",
    "    return model\n",
    "\n",
    "critic_model = get_q_model([3, 32, 64, 3])\n",
    "critic_model_final = copy(critic_model)\n",
    "\n",
    "critic_model.compile(optimizer=tf.keras.optimizers.Adam(learning_rate=0.001),\n",
    "                    loss='mse')\n",
    "\n",
    "critic_model_final.compile(optimizer=tf.keras.optimizers.Adam(learning_rate=0.001),\n",
    "                    loss='mse')"
   ]
  },
  {
   "cell_type": "code",
   "execution_count": 243,
   "metadata": {},
   "outputs": [],
   "source": [
    "action_space = [0, 1, 2]\n",
    "epsilon = 1\n",
    "epsilon_decay = 0.95\n",
    "buffer_size = 400\n",
    "buffer = []\n",
    "max_iters = 100\n",
    "gamma = 0.9"
   ]
  },
  {
   "cell_type": "code",
   "execution_count": 244,
   "metadata": {},
   "outputs": [
    {
     "data": {
      "text/plain": [
       "600"
      ]
     },
     "execution_count": 244,
     "metadata": {},
     "output_type": "execute_result"
    }
   ],
   "source": [
    "data_arr.shape[0]"
   ]
  },
  {
   "cell_type": "code",
   "execution_count": 245,
   "metadata": {},
   "outputs": [],
   "source": [
    "balance = np.mean(data_arr)\n",
    "env = StockMarketEnvironment(balance, data_arr)"
   ]
  },
  {
   "cell_type": "code",
   "execution_count": 246,
   "metadata": {},
   "outputs": [
    {
     "data": {
      "text/plain": [
       "(3,)"
      ]
     },
     "execution_count": 246,
     "metadata": {},
     "output_type": "execute_result"
    }
   ],
   "source": [
    "np.array(env.state).shape"
   ]
  },
  {
   "cell_type": "code",
   "execution_count": 247,
   "metadata": {},
   "outputs": [],
   "source": [
    "curr_q = critic_model_final.predict(env.state.reshape((-1, 3)), verbose = 0)"
   ]
  },
  {
   "cell_type": "code",
   "execution_count": 248,
   "metadata": {},
   "outputs": [
    {
     "data": {
      "text/plain": [
       "array([-0.02532779, -0.00871891, -0.03208645], dtype=float32)"
      ]
     },
     "execution_count": 248,
     "metadata": {},
     "output_type": "execute_result"
    }
   ],
   "source": [
    "curr_q[0]"
   ]
  },
  {
   "cell_type": "code",
   "execution_count": 249,
   "metadata": {},
   "outputs": [],
   "source": [
    "# critic_model_final.load_weights(\"best_trained.weights.h5\")\n",
    "# critic_model.load_weights(\"best_trained.weights.h5\")"
   ]
  },
  {
   "cell_type": "code",
   "execution_count": 256,
   "metadata": {},
   "outputs": [
    {
     "name": "stdout",
     "output_type": "stream",
     "text": [
      "0 -> LOSS: 0.0001675235183552104 -> REWARD: 0.11069840399491826 -> Action count: [426, 156, 17]\n",
      "1 -> LOSS: 1.4317226393529835e-05 -> REWARD: -0.09601291270603757 -> Action count: [466, 122, 11]\n",
      "2 -> LOSS: 0.00011797845349235558 -> REWARD: 0.47044417295953317 -> Action count: [362, 214, 23]\n",
      "3 -> LOSS: 0.00021081209785052125 -> REWARD: 0.06569712639348507 -> Action count: [299, 283, 17]\n",
      "4 -> LOSS: 6.652965061221039e-05 -> REWARD: 0.4188359355239735 -> Action count: [289, 286, 24]\n",
      "5 -> LOSS: 0.002028938264236331 -> REWARD: 0.07200099567479482 -> Action count: [347, 222, 30]\n",
      "6 -> LOSS: 0.0015660857997863787 -> REWARD: 0.27192523274480795 -> Action count: [349, 230, 20]\n",
      "7 -> LOSS: 0.00016152485621660163 -> REWARD: 0.0726618664061239 -> Action count: [405, 170, 24]\n",
      "8 -> LOSS: 0.00015187911635166528 -> REWARD: 0.24324735218073756 -> Action count: [292, 293, 14]\n",
      "9 -> LOSS: 0.0005716102301312276 -> REWARD: 0.46481677227912943 -> Action count: [178, 241, 180]\n",
      "10 -> LOSS: 0.0007068915707350243 -> REWARD: 0.4442244130864701 -> Action count: [291, 285, 23]\n",
      "11 -> LOSS: 7.2989630453434985e-06 -> REWARD: 0.7418469094342395 -> Action count: [106, 258, 235]\n",
      "12 -> LOSS: 0.00011637297003574077 -> REWARD: 0.32682002543811906 -> Action count: [355, 191, 53]\n",
      "13 -> LOSS: 8.834072099034529e-05 -> REWARD: 0.3405521050392898 -> Action count: [427, 90, 82]\n",
      "14 -> LOSS: 0.0005553867190701567 -> REWARD: -0.0019232626238534362 -> Action count: [329, 251, 19]\n",
      "15 -> LOSS: 0.00010571290659822097 -> REWARD: -0.0318586809716605 -> Action count: [445, 129, 25]\n",
      "16 -> LOSS: 6.474178564872091e-05 -> REWARD: 0.37219125085076327 -> Action count: [313, 186, 100]\n",
      "17 -> LOSS: 0.00023840941659727832 -> REWARD: 0.009735206423888865 -> Action count: [348, 237, 14]\n",
      "18 -> LOSS: 6.692412785469059e-05 -> REWARD: -0.06125212189275543 -> Action count: [468, 114, 17]\n",
      "19 -> LOSS: 9.606971304492617e-05 -> REWARD: -0.02490591442736917 -> Action count: [365, 215, 19]\n",
      "20 -> LOSS: 0.00024125378283997633 -> REWARD: 0.07563303403545715 -> Action count: [328, 252, 19]\n",
      "21 -> LOSS: 0.0011679972758474834 -> REWARD: 0.7533044183780964 -> Action count: [294, 271, 34]\n",
      "22 -> LOSS: 0.00025088599031732885 -> REWARD: 0.002292627942010503 -> Action count: [373, 204, 22]\n",
      "23 -> LOSS: 0.0004441754878826032 -> REWARD: 0.2024879831682807 -> Action count: [423, 155, 21]\n",
      "24 -> LOSS: 0.00029758703007246365 -> REWARD: 0.3900063478798679 -> Action count: [322, 241, 36]\n",
      "25 -> LOSS: 9.92553738868196e-05 -> REWARD: -0.09465363280207367 -> Action count: [342, 238, 19]\n",
      "26 -> LOSS: 8.188350322370752e-05 -> REWARD: 0.13199901002069217 -> Action count: [369, 211, 19]\n",
      "27 -> LOSS: 6.870119784252893e-05 -> REWARD: 0.31662186647861246 -> Action count: [332, 201, 66]\n",
      "28 -> LOSS: 4.756196629386977e-05 -> REWARD: -0.05340361047317374 -> Action count: [325, 247, 27]\n",
      "29 -> LOSS: 6.473460764027549e-05 -> REWARD: -0.01572096977585935 -> Action count: [458, 122, 19]\n",
      "30 -> LOSS: 5.498685222065092e-05 -> REWARD: -0.08082207633144319 -> Action count: [490, 91, 18]\n",
      "31 -> LOSS: 0.00012579131219677463 -> REWARD: 0.34797520236455964 -> Action count: [237, 350, 12]\n",
      "32 -> LOSS: 0.0006812514640751033 -> REWARD: 0.3839693898605305 -> Action count: [159, 419, 21]\n",
      "33 -> LOSS: 6.851592150042052e-05 -> REWARD: 0.004837863705427228 -> Action count: [297, 274, 28]\n",
      "34 -> LOSS: 0.001968904227460371 -> REWARD: 0.2615858515802517 -> Action count: [461, 116, 22]\n",
      "35 -> LOSS: 0.0014930132441543264 -> REWARD: 0.17753055046629201 -> Action count: [298, 277, 24]\n",
      "36 -> LOSS: 0.00036468210391831234 -> REWARD: 0.4147594549625433 -> Action count: [243, 336, 20]\n",
      "37 -> LOSS: 0.0011103081392320746 -> REWARD: 0.3620381380208231 -> Action count: [258, 312, 29]\n",
      "38 -> LOSS: 0.00014149054583299404 -> REWARD: -0.08349332475903544 -> Action count: [341, 235, 23]\n",
      "39 -> LOSS: 3.567805003513058e-05 -> REWARD: -0.09647664189906197 -> Action count: [351, 229, 19]\n",
      "40 -> LOSS: 6.254355308328741e-05 -> REWARD: 0.2056234138390511 -> Action count: [354, 229, 16]\n",
      "41 -> LOSS: 0.00016856803818484422 -> REWARD: 0.2538919597059783 -> Action count: [108, 118, 373]\n",
      "42 -> LOSS: 6.299738088131335e-05 -> REWARD: 0.0044464930940915776 -> Action count: [396, 185, 18]\n",
      "43 -> LOSS: 9.170422940883327e-05 -> REWARD: 0.3696588946560018 -> Action count: [256, 214, 129]\n",
      "44 -> LOSS: 8.728075112571788e-05 -> REWARD: 0.3085802262506579 -> Action count: [292, 201, 106]\n",
      "45 -> LOSS: 7.892614288095956e-05 -> REWARD: 0.004592245800678074 -> Action count: [471, 106, 22]\n",
      "46 -> LOSS: 1.0800226741736196e-05 -> REWARD: -0.061383700601676375 -> Action count: [353, 233, 13]\n",
      "47 -> LOSS: 2.0037084674981997e-05 -> REWARD: 0.26993673089882286 -> Action count: [89, 104, 406]\n",
      "48 -> LOSS: 9.214072370014036e-05 -> REWARD: 0.385467756161676 -> Action count: [103, 219, 277]\n",
      "49 -> LOSS: 0.004474065868744219 -> REWARD: 0.32116783644216335 -> Action count: [187, 266, 146]\n",
      "50 -> LOSS: 0.0038925582394585944 -> REWARD: 0.20431746441032192 -> Action count: [290, 280, 29]\n",
      "51 -> LOSS: 0.0005267753712337253 -> REWARD: 0.025224149799609547 -> Action count: [19, 22, 558]\n",
      "52 -> LOSS: 0.00019496150694976678 -> REWARD: 0.07648094975880901 -> Action count: [20, 24, 555]\n",
      "53 -> LOSS: 0.0010071749481403458 -> REWARD: 0.7767397320065952 -> Action count: [23, 32, 544]\n",
      "54 -> LOSS: 0.00020369828786442667 -> REWARD: -0.05555158597325654 -> Action count: [19, 18, 562]\n",
      "55 -> LOSS: 0.0005406302864690815 -> REWARD: -0.027378144394591686 -> Action count: [17, 18, 564]\n",
      "56 -> LOSS: 0.00013718974798280215 -> REWARD: 0.05086601184091885 -> Action count: [19, 23, 557]\n",
      "57 -> LOSS: 0.00016064234628970553 -> REWARD: 0.005951525704641844 -> Action count: [17, 20, 562]\n",
      "58 -> LOSS: 0.0002567366166846341 -> REWARD: 0.06168206648860497 -> Action count: [21, 160, 418]\n",
      "59 -> LOSS: 0.0007415043370701823 -> REWARD: 0.20044155562407395 -> Action count: [24, 47, 528]\n",
      "60 -> LOSS: 0.0011500973267368408 -> REWARD: 0.09618468343573564 -> Action count: [25, 15, 559]\n",
      "61 -> LOSS: 5.7381155752409544e-05 -> REWARD: -0.006826365551412535 -> Action count: [15, 25, 559]\n",
      "62 -> LOSS: 9.14020284081829e-07 -> REWARD: -0.021559232942079246 -> Action count: [20, 19, 560]\n",
      "63 -> LOSS: 0.0001904289513667834 -> REWARD: -0.007276891568529523 -> Action count: [27, 11, 561]\n",
      "64 -> LOSS: 9.287277356264667e-06 -> REWARD: 0.10130751568783244 -> Action count: [19, 15, 565]\n",
      "65 -> LOSS: 2.365504476884439e-06 -> REWARD: -0.08078233736081974 -> Action count: [20, 21, 558]\n",
      "66 -> LOSS: 0.003910138252433626 -> REWARD: 0.0400430319980265 -> Action count: [23, 102, 474]\n",
      "67 -> LOSS: 6.650667211403061e-06 -> REWARD: 0.007276956289980048 -> Action count: [19, 17, 563]\n",
      "68 -> LOSS: 0.00026856392260697247 -> REWARD: 0.16428174593620487 -> Action count: [21, 16, 562]\n",
      "69 -> LOSS: 1.63988685426375e-05 -> REWARD: -0.029200570998525105 -> Action count: [21, 21, 557]\n",
      "70 -> LOSS: 0.0002675309970783246 -> REWARD: 0.3503884710903517 -> Action count: [10, 100, 489]\n",
      "71 -> LOSS: 4.067625048946866e-05 -> REWARD: -0.07090739732524365 -> Action count: [38, 18, 543]\n",
      "72 -> LOSS: 0.00011310032936307834 -> REWARD: 0.2708586879615772 -> Action count: [20, 20, 559]\n",
      "73 -> LOSS: 0.0005192794464210237 -> REWARD: 0.12206517346513723 -> Action count: [59, 18, 522]\n",
      "74 -> LOSS: 5.493189231629003e-06 -> REWARD: -0.015998754241520224 -> Action count: [31, 31, 537]\n",
      "75 -> LOSS: 3.0104350705641992e-05 -> REWARD: -0.02055184356462969 -> Action count: [14, 28, 557]\n",
      "76 -> LOSS: 2.7089638841175656e-05 -> REWARD: -0.030241162480094855 -> Action count: [20, 18, 561]\n",
      "77 -> LOSS: 0.0007228608250670731 -> REWARD: 0.14805115945889757 -> Action count: [23, 57, 519]\n",
      "78 -> LOSS: 0.00013110217481653307 -> REWARD: -0.05322523815552151 -> Action count: [19, 14, 566]\n",
      "79 -> LOSS: 2.567600521672375e-06 -> REWARD: -0.041183229791956794 -> Action count: [50, 18, 531]\n",
      "80 -> LOSS: 6.173712167800716e-05 -> REWARD: 0.008111927723226275 -> Action count: [18, 18, 563]\n",
      "81 -> LOSS: 9.194027071224297e-07 -> REWARD: -0.05301327540504629 -> Action count: [377, 18, 204]\n",
      "82 -> LOSS: 3.21334933053663e-05 -> REWARD: 0.09190316531903658 -> Action count: [33, 20, 546]\n",
      "83 -> LOSS: 0.002502000165969491 -> REWARD: 0.15854897873434337 -> Action count: [28, 28, 543]\n",
      "84 -> LOSS: 0.00012611455128080706 -> REWARD: -0.02378603916890412 -> Action count: [349, 18, 232]\n",
      "85 -> LOSS: 0.0009353749336165151 -> REWARD: 0.04470906025230492 -> Action count: [355, 22, 222]\n",
      "86 -> LOSS: 0.00036596611895220124 -> REWARD: 0.1939135559595901 -> Action count: [339, 83, 177]\n",
      "87 -> LOSS: 0.0005799407507856813 -> REWARD: -0.010849256751806452 -> Action count: [32, 25, 542]\n",
      "88 -> LOSS: 0.000173727038483662 -> REWARD: -0.02776239564636932 -> Action count: [40, 12, 547]\n",
      "89 -> LOSS: 0.00013610066054525305 -> REWARD: -0.061052262053528795 -> Action count: [123, 23, 453]\n",
      "90 -> LOSS: 1.7333098384575987 -> REWARD: 2.6990011797426 -> Action count: [28, 127, 444]\n",
      "91 -> LOSS: 0.0006065919616139581 -> REWARD: -0.019802822217683133 -> Action count: [20, 22, 557]\n",
      "92 -> LOSS: 9.457667266360659e-05 -> REWARD: -0.0002852274324715576 -> Action count: [21, 13, 565]\n",
      "93 -> LOSS: 0.0006043786695181553 -> REWARD: -0.004347469274785826 -> Action count: [21, 27, 551]\n",
      "94 -> LOSS: 0.0004864509843991982 -> REWARD: 0.05035574792496553 -> Action count: [21, 12, 566]\n",
      "95 -> LOSS: 0.0004220542471830413 -> REWARD: 0.04062636643162424 -> Action count: [18, 18, 563]\n",
      "96 -> LOSS: 0.00011412590960844681 -> REWARD: -0.011047951604923695 -> Action count: [16, 19, 564]\n",
      "97 -> LOSS: 0.004754301713401219 -> REWARD: 0.20206509321053862 -> Action count: [23, 25, 551]\n",
      "98 -> LOSS: 0.0004555216451535671 -> REWARD: 0.21386905607906578 -> Action count: [22, 22, 555]\n",
      "99 -> LOSS: 0.0005876124012726791 -> REWARD: 0.11653077750914057 -> Action count: [19, 20, 560]\n",
      "100 -> LOSS: 0.0003727414337049595 -> REWARD: -0.05403380323695274 -> Action count: [23, 16, 560]\n",
      "101 -> LOSS: 0.005659291139565994 -> REWARD: 0.30077494876002764 -> Action count: [21, 22, 556]\n",
      "102 -> LOSS: 0.0010023062432810547 -> REWARD: 0.10601962561488618 -> Action count: [23, 18, 558]\n",
      "103 -> LOSS: 0.003118309725068684 -> REWARD: 0.13657908818867187 -> Action count: [9, 16, 574]\n",
      "104 -> LOSS: 0.00016796400230305154 -> REWARD: 0.03936721061162543 -> Action count: [26, 13, 560]\n",
      "105 -> LOSS: 6.27553132835601e-05 -> REWARD: -0.004798254177704825 -> Action count: [18, 20, 561]\n",
      "106 -> LOSS: 0.0015650982958595706 -> REWARD: 0.020856811039511924 -> Action count: [23, 20, 556]\n",
      "107 -> LOSS: 5.5102685773817936e-05 -> REWARD: 0.043622128212157926 -> Action count: [23, 21, 555]\n",
      "108 -> LOSS: 8.520868650293778e-05 -> REWARD: 0.22875421304282212 -> Action count: [17, 23, 559]\n",
      "109 -> LOSS: 1.245939889940928e-05 -> REWARD: -0.03157325937483739 -> Action count: [19, 12, 568]\n",
      "110 -> LOSS: 0.000174935637328133 -> REWARD: 0.17231426043963466 -> Action count: [27, 26, 546]\n",
      "111 -> LOSS: 0.0018717489771051987 -> REWARD: 0.09661553413189244 -> Action count: [32, 22, 545]\n",
      "112 -> LOSS: 0.0004699594351950509 -> REWARD: 0.04669063690308381 -> Action count: [17, 23, 559]\n",
      "113 -> LOSS: 0.0011466904780809272 -> REWARD: 0.07549342986667118 -> Action count: [16, 22, 561]\n",
      "114 -> LOSS: 0.00021101714312862896 -> REWARD: -0.03963897598238747 -> Action count: [20, 23, 556]\n",
      "115 -> LOSS: 0.0007903105361401685 -> REWARD: 0.21648665042417134 -> Action count: [19, 18, 562]\n",
      "116 -> LOSS: 2.3744325312691215e-05 -> REWARD: -0.004102433863091337 -> Action count: [13, 16, 570]\n",
      "117 -> LOSS: 0.0009072259164986463 -> REWARD: 0.27325105165884955 -> Action count: [17, 21, 561]\n",
      "118 -> LOSS: 0.00041089163372816986 -> REWARD: 0.2450046042839904 -> Action count: [19, 21, 559]\n",
      "119 -> LOSS: 0.0005954115293116046 -> REWARD: 0.2937162332012239 -> Action count: [23, 19, 557]\n",
      "120 -> LOSS: 0.026585950903087224 -> REWARD: 1.350791297398431 -> Action count: [12, 102, 485]\n",
      "121 -> LOSS: 0.0007973297321177597 -> REWARD: 0.08576621265863549 -> Action count: [21, 19, 559]\n",
      "122 -> LOSS: 6.118653647718019e-05 -> REWARD: -0.029101288293417057 -> Action count: [20, 19, 560]\n",
      "123 -> LOSS: 0.00011410097118641716 -> REWARD: 0.01281763022667784 -> Action count: [21, 29, 549]\n",
      "124 -> LOSS: 0.00023125124936996145 -> REWARD: -0.004473611381862558 -> Action count: [25, 15, 559]\n",
      "125 -> LOSS: 0.0008893236239782709 -> REWARD: 0.684147736289602 -> Action count: [22, 22, 555]\n",
      "126 -> LOSS: 0.0001739336639047906 -> REWARD: 0.09200930849790054 -> Action count: [15, 12, 572]\n",
      "127 -> LOSS: 0.0007039172357599455 -> REWARD: -0.024760355885134464 -> Action count: [19, 18, 562]\n",
      "128 -> LOSS: 0.0007362122113045189 -> REWARD: 0.14201361894650563 -> Action count: [24, 17, 558]\n",
      "129 -> LOSS: 1.0787289884319762e-05 -> REWARD: -0.0536163498810549 -> Action count: [18, 25, 556]\n",
      "130 -> LOSS: 0.0008685968128929744 -> REWARD: 0.27213751910253625 -> Action count: [30, 20, 549]\n",
      "131 -> LOSS: 5.112903138638103e-05 -> REWARD: 0.010623767218171098 -> Action count: [18, 17, 564]\n",
      "132 -> LOSS: 0.0011430083300143679 -> REWARD: 0.21504174404116078 -> Action count: [21, 12, 566]\n",
      "133 -> LOSS: 1.309864744598599e-05 -> REWARD: -0.07618944434563636 -> Action count: [9, 15, 575]\n",
      "134 -> LOSS: 3.938773478353141e-05 -> REWARD: 0.12621362427955313 -> Action count: [17, 20, 562]\n",
      "135 -> LOSS: 0.0008618851549579177 -> REWARD: 0.27083843014756226 -> Action count: [15, 25, 559]\n",
      "136 -> LOSS: 0.0011996588774877636 -> REWARD: -0.0026774616868429496 -> Action count: [27, 17, 555]\n",
      "137 -> LOSS: 8.513236254657385e-05 -> REWARD: -0.0507002602061197 -> Action count: [17, 22, 560]\n",
      "138 -> LOSS: 2.48771368751477e-05 -> REWARD: 0.0022798130948062864 -> Action count: [25, 24, 550]\n",
      "139 -> LOSS: 0.0004713991315020394 -> REWARD: -0.029074817220151553 -> Action count: [19, 22, 558]\n",
      "140 -> LOSS: 4.12866091073738e-05 -> REWARD: -0.04541801902137549 -> Action count: [24, 16, 559]\n",
      "141 -> LOSS: 0.00012439161392990172 -> REWARD: -0.008973629115539998 -> Action count: [20, 24, 555]\n",
      "142 -> LOSS: 0.0002159222541388317 -> REWARD: 0.009642978356888078 -> Action count: [20, 19, 560]\n",
      "143 -> LOSS: 0.00017269907186346245 -> REWARD: 0.14687814788954995 -> Action count: [19, 16, 564]\n",
      "144 -> LOSS: 0.00027099490401724327 -> REWARD: 0.000980918304184078 -> Action count: [29, 15, 555]\n",
      "145 -> LOSS: 0.0005633700587753765 -> REWARD: 0.1533864075116233 -> Action count: [22, 20, 557]\n",
      "146 -> LOSS: 0.00013885276026485372 -> REWARD: 0.07258407122259078 -> Action count: [20, 20, 559]\n",
      "147 -> LOSS: 0.00016398888938965684 -> REWARD: 0.12294655017841111 -> Action count: [15, 16, 568]\n",
      "148 -> LOSS: 0.00010044768295983885 -> REWARD: -0.02733173911456402 -> Action count: [29, 16, 554]\n",
      "149 -> LOSS: 0.0009043883136791919 -> REWARD: 0.2238098178298275 -> Action count: [22, 12, 565]\n",
      "150 -> LOSS: 0.00013428707238517747 -> REWARD: 0.05877911526812671 -> Action count: [26, 32, 541]\n",
      "151 -> LOSS: 0.00010601667256196379 -> REWARD: -0.024163753554178463 -> Action count: [22, 19, 558]\n",
      "152 -> LOSS: 8.114862697311765e-05 -> REWARD: -0.0010139909654033052 -> Action count: [14, 20, 565]\n",
      "153 -> LOSS: 0.0006497187227517998 -> REWARD: 0.12265485060088685 -> Action count: [21, 21, 557]\n",
      "154 -> LOSS: 1.835668074136265e-05 -> REWARD: -0.053616349881054876 -> Action count: [24, 23, 552]\n",
      "155 -> LOSS: 0.0001520949817535211 -> REWARD: 0.0004043149014409664 -> Action count: [17, 11, 571]\n",
      "156 -> LOSS: 1.698438721447815e-05 -> REWARD: -0.04464265604406444 -> Action count: [12, 18, 569]\n",
      "157 -> LOSS: 0.00016511155642234598 -> REWARD: 0.04985202087551552 -> Action count: [25, 23, 551]\n",
      "158 -> LOSS: 2.9104584014021386e-05 -> REWARD: 0.004572958808421193 -> Action count: [14, 23, 562]\n",
      "159 -> LOSS: 0.0002487792979150072 -> REWARD: 0.6500158438110889 -> Action count: [26, 14, 559]\n",
      "160 -> LOSS: 0.0011416836717353363 -> REWARD: 0.2324452126449148 -> Action count: [16, 18, 565]\n",
      "161 -> LOSS: 0.0007915332019024391 -> REWARD: 0.1642489321607878 -> Action count: [20, 16, 563]\n",
      "162 -> LOSS: 0.0003250965408884099 -> REWARD: 0.44341131750350193 -> Action count: [11, 18, 570]\n",
      "163 -> LOSS: 3.7812074720022793e-06 -> REWARD: 0.057075905576063596 -> Action count: [19, 20, 560]\n",
      "164 -> LOSS: 9.241261841452797e-05 -> REWARD: 0.05103830034222109 -> Action count: [18, 13, 568]\n",
      "165 -> LOSS: 0.0007585501827821873 -> REWARD: 0.14860122706692483 -> Action count: [17, 20, 562]\n",
      "166 -> LOSS: 5.8000028438982554e-05 -> REWARD: 0.2974410821219419 -> Action count: [20, 20, 559]\n",
      "167 -> LOSS: 0.00020404112980145327 -> REWARD: 0.20164770457609094 -> Action count: [21, 22, 556]\n",
      "168 -> LOSS: 0.0016099672403629484 -> REWARD: 0.22669251123629114 -> Action count: [21, 24, 554]\n",
      "169 -> LOSS: 2.5416292658064776e-05 -> REWARD: -0.023653489638225195 -> Action count: [21, 29, 549]\n",
      "170 -> LOSS: 0.0004599604101542809 -> REWARD: 0.36640683593138185 -> Action count: [21, 19, 559]\n",
      "171 -> LOSS: 1.9513977265823713e-05 -> REWARD: -0.05538596378135855 -> Action count: [18, 23, 558]\n",
      "172 -> LOSS: 9.35692591735915e-05 -> REWARD: 0.007906437117803644 -> Action count: [16, 17, 566]\n",
      "173 -> LOSS: 0.0003686130865207815 -> REWARD: -0.021095244863252663 -> Action count: [26, 18, 555]\n",
      "174 -> LOSS: 0.0003665500911392883 -> REWARD: 0.3582812519820944 -> Action count: [22, 21, 556]\n",
      "175 -> LOSS: 2.9816282776664593e-05 -> REWARD: -0.07935082831806811 -> Action count: [15, 18, 566]\n",
      "176 -> LOSS: 0.0001441013813450809 -> REWARD: 0.20600850646968571 -> Action count: [20, 26, 553]\n",
      "177 -> LOSS: 2.0706519416648918e-05 -> REWARD: -0.040341462606405316 -> Action count: [22, 23, 554]\n",
      "178 -> LOSS: 7.401036030870501e-05 -> REWARD: -0.020617988887068082 -> Action count: [23, 21, 555]\n",
      "179 -> LOSS: 5.848884896863638e-05 -> REWARD: -0.03970531546917749 -> Action count: [22, 20, 557]\n",
      "180 -> LOSS: 3.383813446077966e-05 -> REWARD: -0.06253017637630814 -> Action count: [19, 21, 559]\n",
      "181 -> LOSS: 0.0009488266467985795 -> REWARD: 0.13172763297863394 -> Action count: [17, 11, 571]\n",
      "182 -> LOSS: 0.00010202234535981347 -> REWARD: 0.018676215928363174 -> Action count: [24, 15, 560]\n",
      "183 -> LOSS: 1.4316849914166596e-05 -> REWARD: -0.07134472016645321 -> Action count: [13, 11, 575]\n",
      "184 -> LOSS: 8.176913856857482e-05 -> REWARD: 0.08150469347014924 -> Action count: [13, 18, 568]\n",
      "185 -> LOSS: 0.00010313965844488849 -> REWARD: 0.05797702233174809 -> Action count: [22, 21, 556]\n",
      "186 -> LOSS: 0.0005139868428250339 -> REWARD: 0.11033408694990329 -> Action count: [20, 22, 557]\n",
      "187 -> LOSS: 0.0006914347745578198 -> REWARD: 0.17231458404688732 -> Action count: [22, 21, 556]\n",
      "188 -> LOSS: 0.0004322087552537823 -> REWARD: 0.032421757591243716 -> Action count: [20, 19, 560]\n",
      "189 -> LOSS: 0.00014705902552577754 -> REWARD: 0.13144939546281914 -> Action count: [24, 20, 555]\n",
      "190 -> LOSS: 4.19954912160847e-05 -> REWARD: 0.12013634479653773 -> Action count: [28, 21, 550]\n",
      "191 -> LOSS: 0.005318103102963505 -> REWARD: 0.25169266009562713 -> Action count: [44, 18, 537]\n",
      "192 -> LOSS: 7.45159682674057e-05 -> REWARD: -0.07606349640291124 -> Action count: [22, 14, 563]\n",
      "193 -> LOSS: 8.619758588892523e-06 -> REWARD: -0.030930381206754745 -> Action count: [25, 16, 558]\n",
      "194 -> LOSS: 4.120956996089831e-06 -> REWARD: -0.022135771623371922 -> Action count: [15, 17, 567]\n",
      "195 -> LOSS: 2.1061311166619134e-05 -> REWARD: -0.04316480644273561 -> Action count: [20, 26, 553]\n",
      "196 -> LOSS: 7.822489993344561e-05 -> REWARD: 0.03532438520446926 -> Action count: [16, 22, 561]\n",
      "197 -> LOSS: 3.81372717563977e-05 -> REWARD: 0.09515729513007326 -> Action count: [21, 18, 560]\n",
      "198 -> LOSS: 6.9752268299794195e-06 -> REWARD: -0.04476860398678956 -> Action count: [19, 30, 550]\n",
      "199 -> LOSS: 9.221956294766187e-05 -> REWARD: 0.11281939065013216 -> Action count: [25, 21, 553]\n",
      "200 -> LOSS: 0.00046148677618589317 -> REWARD: 0.10607942823517275 -> Action count: [21, 19, 559]\n",
      "201 -> LOSS: 7.21499968142325e-05 -> REWARD: -0.03205705221752521 -> Action count: [94, 18, 487]\n",
      "202 -> LOSS: 2.645956782060921e-05 -> REWARD: -0.029903251786894583 -> Action count: [42, 14, 543]\n",
      "203 -> LOSS: 6.32089066516528e-05 -> REWARD: -0.01377842015974809 -> Action count: [36, 17, 546]\n",
      "204 -> LOSS: 7.994571148003615e-05 -> REWARD: 0.06420704443800682 -> Action count: [39, 16, 544]\n",
      "205 -> LOSS: 0.0003873573996770574 -> REWARD: 0.03739236499170137 -> Action count: [100, 22, 477]\n",
      "206 -> LOSS: 0.0006655405404148951 -> REWARD: 0.8196731592636977 -> Action count: [28, 82, 489]\n",
      "207 -> LOSS: 0.00012515130529436647 -> REWARD: -0.0028896186016698217 -> Action count: [63, 20, 516]\n",
      "208 -> LOSS: 0.00010123588970714081 -> REWARD: 0.12172693916468422 -> Action count: [39, 22, 538]\n",
      "209 -> LOSS: 0.00016336022748419054 -> REWARD: -0.033746994012230254 -> Action count: [68, 21, 510]\n",
      "210 -> LOSS: 4.7995393141917476e-05 -> REWARD: -0.01122036954912723 -> Action count: [48, 17, 534]\n",
      "211 -> LOSS: 0.0005459889591838873 -> REWARD: 0.0749370195564924 -> Action count: [52, 24, 523]\n",
      "212 -> LOSS: 2.8615917558099114e-05 -> REWARD: -0.03288535734136711 -> Action count: [44, 23, 532]\n",
      "213 -> LOSS: 0.00012720197549242584 -> REWARD: 0.1654620063080114 -> Action count: [44, 24, 531]\n",
      "214 -> LOSS: 8.854694127876429e-05 -> REWARD: -0.033621304955307234 -> Action count: [62, 19, 518]\n",
      "215 -> LOSS: 3.359587327082636e-05 -> REWARD: 0.08371829652106677 -> Action count: [33, 16, 550]\n",
      "216 -> LOSS: 0.0003185366170407633 -> REWARD: -0.03823380857000017 -> Action count: [42, 18, 539]\n",
      "217 -> LOSS: 4.82489879732384e-05 -> REWARD: -0.03957263649559754 -> Action count: [302, 23, 274]\n",
      "218 -> LOSS: 9.718939087349554e-05 -> REWARD: 0.057513357860174225 -> Action count: [29, 18, 552]\n",
      "219 -> LOSS: 0.00012146204149445339 -> REWARD: 0.07639506439395996 -> Action count: [33, 10, 556]\n",
      "220 -> LOSS: 0.0002234499023961689 -> REWARD: 0.09048505361654394 -> Action count: [32, 23, 544]\n",
      "221 -> LOSS: 7.00430353504089e-05 -> REWARD: -0.013036194565106851 -> Action count: [33, 20, 546]\n",
      "222 -> LOSS: 4.3520847910940574e-05 -> REWARD: -0.03344222070169957 -> Action count: [73, 19, 507]\n",
      "223 -> LOSS: 0.00018500540656930299 -> REWARD: 0.07020471653687432 -> Action count: [56, 24, 519]\n",
      "224 -> LOSS: 2.7683876811579467e-05 -> REWARD: -0.03647765673140623 -> Action count: [39, 13, 547]\n",
      "225 -> LOSS: 3.839941544669045e-05 -> REWARD: -0.02417054930648385 -> Action count: [39, 17, 543]\n",
      "226 -> LOSS: 0.00011939813495700946 -> REWARD: -0.037292629236439605 -> Action count: [49, 24, 526]\n",
      "227 -> LOSS: 0.0004324800606059398 -> REWARD: 0.08264463237827771 -> Action count: [42, 20, 537]\n",
      "228 -> LOSS: 4.025673214272274e-05 -> REWARD: -0.0003579743428638246 -> Action count: [32, 20, 547]\n",
      "229 -> LOSS: 2.6427963071000704e-05 -> REWARD: -0.032666793002938066 -> Action count: [61, 14, 524]\n",
      "230 -> LOSS: 2.1453888368228036e-05 -> REWARD: -0.0046260303978531425 -> Action count: [43, 24, 532]\n",
      "231 -> LOSS: 0.00010786822178943112 -> REWARD: 0.1152318827185182 -> Action count: [36, 22, 541]\n",
      "232 -> LOSS: 5.862867644140124e-05 -> REWARD: -0.03459549222863655 -> Action count: [127, 23, 449]\n",
      "233 -> LOSS: 0.00018483529630429984 -> REWARD: 0.23914595386085463 -> Action count: [52, 26, 521]\n",
      "234 -> LOSS: 1.8875383232170863e-05 -> REWARD: -0.09777514836098099 -> Action count: [153, 21, 425]\n",
      "235 -> LOSS: 0.0002510362845259806 -> REWARD: 0.15310816999580856 -> Action count: [35, 23, 541]\n",
      "236 -> LOSS: 0.0006795739755398244 -> REWARD: 0.1423648622585147 -> Action count: [39, 19, 541]\n",
      "237 -> LOSS: 6.540138033415133e-05 -> REWARD: 0.08142534497180332 -> Action count: [196, 32, 371]\n",
      "238 -> LOSS: 0.00012564622471927578 -> REWARD: 0.06454489040975664 -> Action count: [34, 20, 545]\n",
      "239 -> LOSS: 5.205788495914021e-05 -> REWARD: -0.018192358364224864 -> Action count: [48, 18, 533]\n",
      "240 -> LOSS: 0.00027027693580294 -> REWARD: 0.17619133421199185 -> Action count: [38, 22, 539]\n",
      "241 -> LOSS: 0.0002507711881753494 -> REWARD: 0.06418704550979404 -> Action count: [38, 16, 545]\n",
      "242 -> LOSS: 3.1489979817393985e-05 -> REWARD: -0.03462856488985581 -> Action count: [38, 28, 533]\n",
      "243 -> LOSS: 4.4266041713854064e-05 -> REWARD: 0.041673559501147706 -> Action count: [36, 11, 552]\n",
      "244 -> LOSS: 7.445419862563085e-05 -> REWARD: 0.08455346211866441 -> Action count: [40, 18, 541]\n",
      "245 -> LOSS: 4.358346061934526e-05 -> REWARD: 0.010975269415982036 -> Action count: [39, 23, 537]\n",
      "246 -> LOSS: 4.294127078026122e-05 -> REWARD: -0.018662883309554727 -> Action count: [64, 21, 514]\n"
     ]
    },
    {
     "ename": "KeyboardInterrupt",
     "evalue": "",
     "output_type": "error",
     "traceback": [
      "\u001b[0;31m---------------------------------------------------------------------------\u001b[0m",
      "\u001b[0;31mKeyboardInterrupt\u001b[0m                         Traceback (most recent call last)",
      "Cell \u001b[0;32mIn[256], line 13\u001b[0m\n\u001b[1;32m     11\u001b[0m     action \u001b[38;5;241m=\u001b[39m np\u001b[38;5;241m.\u001b[39mrandom\u001b[38;5;241m.\u001b[39mchoice(action_space)\n\u001b[1;32m     12\u001b[0m \u001b[38;5;28;01melse\u001b[39;00m:\n\u001b[0;32m---> 13\u001b[0m     action \u001b[38;5;241m=\u001b[39m np\u001b[38;5;241m.\u001b[39margmax(\u001b[43mcritic_model_final\u001b[49m\u001b[38;5;241;43m.\u001b[39;49m\u001b[43mpredict\u001b[49m\u001b[43m(\u001b[49m\u001b[43menv\u001b[49m\u001b[38;5;241;43m.\u001b[39;49m\u001b[43mstate\u001b[49m\u001b[38;5;241;43m.\u001b[39;49m\u001b[43mreshape\u001b[49m\u001b[43m(\u001b[49m\u001b[43m(\u001b[49m\u001b[38;5;241;43m-\u001b[39;49m\u001b[38;5;241;43m1\u001b[39;49m\u001b[43m,\u001b[49m\u001b[43m \u001b[49m\u001b[38;5;241;43m3\u001b[39;49m\u001b[43m)\u001b[49m\u001b[43m)\u001b[49m\u001b[43m,\u001b[49m\u001b[43m \u001b[49m\u001b[43mverbose\u001b[49m\u001b[43m \u001b[49m\u001b[38;5;241;43m=\u001b[39;49m\u001b[43m \u001b[49m\u001b[38;5;241;43m0\u001b[39;49m\u001b[43m)\u001b[49m)\n\u001b[1;32m     14\u001b[0m action_count[action] \u001b[38;5;241m+\u001b[39m\u001b[38;5;241m=\u001b[39m \u001b[38;5;241m1\u001b[39m\n\u001b[1;32m     15\u001b[0m next_state, reward, end \u001b[38;5;241m=\u001b[39m env\u001b[38;5;241m.\u001b[39mstep(action)\n",
      "File \u001b[0;32m~/Desktop/FinSearchRL/venv/lib/python3.9/site-packages/keras/src/utils/traceback_utils.py:117\u001b[0m, in \u001b[0;36mfilter_traceback.<locals>.error_handler\u001b[0;34m(*args, **kwargs)\u001b[0m\n\u001b[1;32m    115\u001b[0m filtered_tb \u001b[38;5;241m=\u001b[39m \u001b[38;5;28;01mNone\u001b[39;00m\n\u001b[1;32m    116\u001b[0m \u001b[38;5;28;01mtry\u001b[39;00m:\n\u001b[0;32m--> 117\u001b[0m     \u001b[38;5;28;01mreturn\u001b[39;00m \u001b[43mfn\u001b[49m\u001b[43m(\u001b[49m\u001b[38;5;241;43m*\u001b[39;49m\u001b[43margs\u001b[49m\u001b[43m,\u001b[49m\u001b[43m \u001b[49m\u001b[38;5;241;43m*\u001b[39;49m\u001b[38;5;241;43m*\u001b[39;49m\u001b[43mkwargs\u001b[49m\u001b[43m)\u001b[49m\n\u001b[1;32m    118\u001b[0m \u001b[38;5;28;01mexcept\u001b[39;00m \u001b[38;5;167;01mException\u001b[39;00m \u001b[38;5;28;01mas\u001b[39;00m e:\n\u001b[1;32m    119\u001b[0m     filtered_tb \u001b[38;5;241m=\u001b[39m _process_traceback_frames(e\u001b[38;5;241m.\u001b[39m__traceback__)\n",
      "File \u001b[0;32m~/Desktop/FinSearchRL/venv/lib/python3.9/site-packages/keras/src/backend/tensorflow/trainer.py:446\u001b[0m, in \u001b[0;36mTensorFlowTrainer.predict\u001b[0;34m(self, x, batch_size, verbose, steps, callbacks)\u001b[0m\n\u001b[1;32m    441\u001b[0m \u001b[38;5;129m@traceback_utils\u001b[39m\u001b[38;5;241m.\u001b[39mfilter_traceback\n\u001b[1;32m    442\u001b[0m \u001b[38;5;28;01mdef\u001b[39;00m \u001b[38;5;21mpredict\u001b[39m(\n\u001b[1;32m    443\u001b[0m     \u001b[38;5;28mself\u001b[39m, x, batch_size\u001b[38;5;241m=\u001b[39m\u001b[38;5;28;01mNone\u001b[39;00m, verbose\u001b[38;5;241m=\u001b[39m\u001b[38;5;124m\"\u001b[39m\u001b[38;5;124mauto\u001b[39m\u001b[38;5;124m\"\u001b[39m, steps\u001b[38;5;241m=\u001b[39m\u001b[38;5;28;01mNone\u001b[39;00m, callbacks\u001b[38;5;241m=\u001b[39m\u001b[38;5;28;01mNone\u001b[39;00m\n\u001b[1;32m    444\u001b[0m ):\n\u001b[1;32m    445\u001b[0m     \u001b[38;5;66;03m# Create an iterator that yields batches of input data.\u001b[39;00m\n\u001b[0;32m--> 446\u001b[0m     epoch_iterator \u001b[38;5;241m=\u001b[39m \u001b[43mTFEpochIterator\u001b[49m\u001b[43m(\u001b[49m\n\u001b[1;32m    447\u001b[0m \u001b[43m        \u001b[49m\u001b[43mx\u001b[49m\u001b[38;5;241;43m=\u001b[39;49m\u001b[43mx\u001b[49m\u001b[43m,\u001b[49m\n\u001b[1;32m    448\u001b[0m \u001b[43m        \u001b[49m\u001b[43mbatch_size\u001b[49m\u001b[38;5;241;43m=\u001b[39;49m\u001b[43mbatch_size\u001b[49m\u001b[43m,\u001b[49m\n\u001b[1;32m    449\u001b[0m \u001b[43m        \u001b[49m\u001b[43msteps_per_epoch\u001b[49m\u001b[38;5;241;43m=\u001b[39;49m\u001b[43msteps\u001b[49m\u001b[43m,\u001b[49m\n\u001b[1;32m    450\u001b[0m \u001b[43m        \u001b[49m\u001b[43mshuffle\u001b[49m\u001b[38;5;241;43m=\u001b[39;49m\u001b[38;5;28;43;01mFalse\u001b[39;49;00m\u001b[43m,\u001b[49m\n\u001b[1;32m    451\u001b[0m \u001b[43m        \u001b[49m\u001b[43mdistribute_strategy\u001b[49m\u001b[38;5;241;43m=\u001b[39;49m\u001b[38;5;28;43mself\u001b[39;49m\u001b[38;5;241;43m.\u001b[39;49m\u001b[43mdistribute_strategy\u001b[49m\u001b[43m,\u001b[49m\n\u001b[1;32m    452\u001b[0m \u001b[43m        \u001b[49m\u001b[43msteps_per_execution\u001b[49m\u001b[38;5;241;43m=\u001b[39;49m\u001b[38;5;28;43mself\u001b[39;49m\u001b[38;5;241;43m.\u001b[39;49m\u001b[43msteps_per_execution\u001b[49m\u001b[43m,\u001b[49m\n\u001b[1;32m    453\u001b[0m \u001b[43m    \u001b[49m\u001b[43m)\u001b[49m\n\u001b[1;32m    455\u001b[0m     \u001b[38;5;66;03m# Container that configures and calls callbacks.\u001b[39;00m\n\u001b[1;32m    456\u001b[0m     \u001b[38;5;28;01mif\u001b[39;00m \u001b[38;5;129;01mnot\u001b[39;00m \u001b[38;5;28misinstance\u001b[39m(callbacks, callbacks_module\u001b[38;5;241m.\u001b[39mCallbackList):\n",
      "File \u001b[0;32m~/Desktop/FinSearchRL/venv/lib/python3.9/site-packages/keras/src/backend/tensorflow/trainer.py:629\u001b[0m, in \u001b[0;36mTFEpochIterator.__init__\u001b[0;34m(self, distribute_strategy, *args, **kwargs)\u001b[0m\n\u001b[1;32m    627\u001b[0m \u001b[38;5;28msuper\u001b[39m()\u001b[38;5;241m.\u001b[39m\u001b[38;5;21m__init__\u001b[39m(\u001b[38;5;241m*\u001b[39margs, \u001b[38;5;241m*\u001b[39m\u001b[38;5;241m*\u001b[39mkwargs)\n\u001b[1;32m    628\u001b[0m \u001b[38;5;28mself\u001b[39m\u001b[38;5;241m.\u001b[39m_distribute_strategy \u001b[38;5;241m=\u001b[39m distribute_strategy\n\u001b[0;32m--> 629\u001b[0m dataset \u001b[38;5;241m=\u001b[39m \u001b[38;5;28;43mself\u001b[39;49m\u001b[38;5;241;43m.\u001b[39;49m\u001b[43m_get_iterator\u001b[49m\u001b[43m(\u001b[49m\u001b[43m)\u001b[49m\n\u001b[1;32m    630\u001b[0m \u001b[38;5;28;01mif\u001b[39;00m \u001b[38;5;129;01mnot\u001b[39;00m \u001b[38;5;28misinstance\u001b[39m(dataset, tf\u001b[38;5;241m.\u001b[39mdistribute\u001b[38;5;241m.\u001b[39mDistributedDataset):\n\u001b[1;32m    631\u001b[0m     dataset \u001b[38;5;241m=\u001b[39m \u001b[38;5;28mself\u001b[39m\u001b[38;5;241m.\u001b[39m_distribute_strategy\u001b[38;5;241m.\u001b[39mexperimental_distribute_dataset(\n\u001b[1;32m    632\u001b[0m         dataset\n\u001b[1;32m    633\u001b[0m     )\n",
      "File \u001b[0;32m~/Desktop/FinSearchRL/venv/lib/python3.9/site-packages/keras/src/backend/tensorflow/trainer.py:638\u001b[0m, in \u001b[0;36mTFEpochIterator._get_iterator\u001b[0;34m(self)\u001b[0m\n\u001b[1;32m    637\u001b[0m \u001b[38;5;28;01mdef\u001b[39;00m \u001b[38;5;21m_get_iterator\u001b[39m(\u001b[38;5;28mself\u001b[39m):\n\u001b[0;32m--> 638\u001b[0m     \u001b[38;5;28;01mreturn\u001b[39;00m \u001b[38;5;28;43mself\u001b[39;49m\u001b[38;5;241;43m.\u001b[39;49m\u001b[43mdata_adapter\u001b[49m\u001b[38;5;241;43m.\u001b[39;49m\u001b[43mget_tf_dataset\u001b[49m\u001b[43m(\u001b[49m\u001b[43m)\u001b[49m\n",
      "File \u001b[0;32m~/Desktop/FinSearchRL/venv/lib/python3.9/site-packages/keras/src/trainers/data_adapters/array_data_adapter.py:232\u001b[0m, in \u001b[0;36mArrayDataAdapter.get_tf_dataset\u001b[0;34m(self)\u001b[0m\n\u001b[1;32m    229\u001b[0m     dataset \u001b[38;5;241m=\u001b[39m dataset\u001b[38;5;241m.\u001b[39mwith_options(options)\n\u001b[1;32m    230\u001b[0m     \u001b[38;5;28;01mreturn\u001b[39;00m dataset\n\u001b[0;32m--> 232\u001b[0m indices_dataset \u001b[38;5;241m=\u001b[39m \u001b[43mindices_dataset\u001b[49m\u001b[38;5;241;43m.\u001b[39;49m\u001b[43mflat_map\u001b[49m\u001b[43m(\u001b[49m\u001b[43mslice_batch_indices\u001b[49m\u001b[43m)\u001b[49m\n\u001b[1;32m    233\u001b[0m \u001b[38;5;28;01mif\u001b[39;00m shuffle \u001b[38;5;241m==\u001b[39m \u001b[38;5;124m\"\u001b[39m\u001b[38;5;124mbatch\u001b[39m\u001b[38;5;124m\"\u001b[39m:\n\u001b[1;32m    234\u001b[0m     indices_dataset \u001b[38;5;241m=\u001b[39m indices_dataset\u001b[38;5;241m.\u001b[39mmap(tf\u001b[38;5;241m.\u001b[39mrandom\u001b[38;5;241m.\u001b[39mshuffle)\n",
      "File \u001b[0;32m~/Desktop/FinSearchRL/venv/lib/python3.9/site-packages/tensorflow/python/data/ops/dataset_ops.py:2356\u001b[0m, in \u001b[0;36mDatasetV2.flat_map\u001b[0;34m(self, map_func, name)\u001b[0m\n\u001b[1;32m   2352\u001b[0m \u001b[38;5;66;03m# Loaded lazily due to a circular dependency (dataset_ops -> flat_map_op ->\u001b[39;00m\n\u001b[1;32m   2353\u001b[0m \u001b[38;5;66;03m# dataset_ops).\u001b[39;00m\n\u001b[1;32m   2354\u001b[0m \u001b[38;5;66;03m# pylint: disable=g-import-not-at-top,protected-access\u001b[39;00m\n\u001b[1;32m   2355\u001b[0m \u001b[38;5;28;01mfrom\u001b[39;00m \u001b[38;5;21;01mtensorflow\u001b[39;00m\u001b[38;5;21;01m.\u001b[39;00m\u001b[38;5;21;01mpython\u001b[39;00m\u001b[38;5;21;01m.\u001b[39;00m\u001b[38;5;21;01mdata\u001b[39;00m\u001b[38;5;21;01m.\u001b[39;00m\u001b[38;5;21;01mops\u001b[39;00m \u001b[38;5;28;01mimport\u001b[39;00m flat_map_op\n\u001b[0;32m-> 2356\u001b[0m \u001b[38;5;28;01mreturn\u001b[39;00m \u001b[43mflat_map_op\u001b[49m\u001b[38;5;241;43m.\u001b[39;49m\u001b[43m_flat_map\u001b[49m\u001b[43m(\u001b[49m\u001b[38;5;28;43mself\u001b[39;49m\u001b[43m,\u001b[49m\u001b[43m \u001b[49m\u001b[43mmap_func\u001b[49m\u001b[43m,\u001b[49m\u001b[43m \u001b[49m\u001b[43mname\u001b[49m\u001b[38;5;241;43m=\u001b[39;49m\u001b[43mname\u001b[49m\u001b[43m)\u001b[49m\n",
      "File \u001b[0;32m~/Desktop/FinSearchRL/venv/lib/python3.9/site-packages/tensorflow/python/data/ops/flat_map_op.py:24\u001b[0m, in \u001b[0;36m_flat_map\u001b[0;34m(input_dataset, map_func, name)\u001b[0m\n\u001b[1;32m     22\u001b[0m \u001b[38;5;28;01mdef\u001b[39;00m \u001b[38;5;21m_flat_map\u001b[39m(input_dataset, map_func, name\u001b[38;5;241m=\u001b[39m\u001b[38;5;28;01mNone\u001b[39;00m):  \u001b[38;5;66;03m# pylint: disable=unused-private-name\u001b[39;00m\n\u001b[1;32m     23\u001b[0m \u001b[38;5;250m  \u001b[39m\u001b[38;5;124;03m\"\"\"See `Dataset.flat_map()` for details.\"\"\"\u001b[39;00m\n\u001b[0;32m---> 24\u001b[0m   \u001b[38;5;28;01mreturn\u001b[39;00m \u001b[43m_FlatMapDataset\u001b[49m\u001b[43m(\u001b[49m\u001b[43minput_dataset\u001b[49m\u001b[43m,\u001b[49m\u001b[43m \u001b[49m\u001b[43mmap_func\u001b[49m\u001b[43m,\u001b[49m\u001b[43m \u001b[49m\u001b[43mname\u001b[49m\u001b[43m)\u001b[49m\n",
      "File \u001b[0;32m~/Desktop/FinSearchRL/venv/lib/python3.9/site-packages/tensorflow/python/data/ops/flat_map_op.py:33\u001b[0m, in \u001b[0;36m_FlatMapDataset.__init__\u001b[0;34m(self, input_dataset, map_func, name)\u001b[0m\n\u001b[1;32m     30\u001b[0m \u001b[38;5;28;01mdef\u001b[39;00m \u001b[38;5;21m__init__\u001b[39m(\u001b[38;5;28mself\u001b[39m, input_dataset, map_func, name\u001b[38;5;241m=\u001b[39m\u001b[38;5;28;01mNone\u001b[39;00m):\n\u001b[1;32m     32\u001b[0m   \u001b[38;5;28mself\u001b[39m\u001b[38;5;241m.\u001b[39m_input_dataset \u001b[38;5;241m=\u001b[39m input_dataset\n\u001b[0;32m---> 33\u001b[0m   \u001b[38;5;28mself\u001b[39m\u001b[38;5;241m.\u001b[39m_map_func \u001b[38;5;241m=\u001b[39m \u001b[43mstructured_function\u001b[49m\u001b[38;5;241;43m.\u001b[39;49m\u001b[43mStructuredFunctionWrapper\u001b[49m\u001b[43m(\u001b[49m\n\u001b[1;32m     34\u001b[0m \u001b[43m      \u001b[49m\u001b[43mmap_func\u001b[49m\u001b[43m,\u001b[49m\u001b[43m \u001b[49m\u001b[38;5;28;43mself\u001b[39;49m\u001b[38;5;241;43m.\u001b[39;49m\u001b[43m_transformation_name\u001b[49m\u001b[43m(\u001b[49m\u001b[43m)\u001b[49m\u001b[43m,\u001b[49m\u001b[43m \u001b[49m\u001b[43mdataset\u001b[49m\u001b[38;5;241;43m=\u001b[39;49m\u001b[43minput_dataset\u001b[49m\u001b[43m)\u001b[49m\n\u001b[1;32m     35\u001b[0m   \u001b[38;5;28;01mif\u001b[39;00m \u001b[38;5;129;01mnot\u001b[39;00m \u001b[38;5;28misinstance\u001b[39m(\u001b[38;5;28mself\u001b[39m\u001b[38;5;241m.\u001b[39m_map_func\u001b[38;5;241m.\u001b[39moutput_structure, dataset_ops\u001b[38;5;241m.\u001b[39mDatasetSpec):\n\u001b[1;32m     36\u001b[0m     \u001b[38;5;28;01mraise\u001b[39;00m \u001b[38;5;167;01mTypeError\u001b[39;00m(\n\u001b[1;32m     37\u001b[0m         \u001b[38;5;124m\"\u001b[39m\u001b[38;5;124mThe `map_func` argument must return a `Dataset` object. Got \u001b[39m\u001b[38;5;124m\"\u001b[39m\n\u001b[1;32m     38\u001b[0m         \u001b[38;5;124mf\u001b[39m\u001b[38;5;124m\"\u001b[39m\u001b[38;5;132;01m{\u001b[39;00mdataset_ops\u001b[38;5;241m.\u001b[39mget_type(\u001b[38;5;28mself\u001b[39m\u001b[38;5;241m.\u001b[39m_map_func\u001b[38;5;241m.\u001b[39moutput_structure)\u001b[38;5;132;01m!r}\u001b[39;00m\u001b[38;5;124m.\u001b[39m\u001b[38;5;124m\"\u001b[39m)\n",
      "File \u001b[0;32m~/Desktop/FinSearchRL/venv/lib/python3.9/site-packages/tensorflow/python/data/ops/structured_function.py:265\u001b[0m, in \u001b[0;36mStructuredFunctionWrapper.__init__\u001b[0;34m(self, func, transformation_name, dataset, input_classes, input_shapes, input_types, input_structure, add_to_graph, use_legacy_function, defun_kwargs)\u001b[0m\n\u001b[1;32m    258\u001b[0m       warnings\u001b[38;5;241m.\u001b[39mwarn(\n\u001b[1;32m    259\u001b[0m           \u001b[38;5;124m\"\u001b[39m\u001b[38;5;124mEven though the `tf.config.experimental_run_functions_eagerly` \u001b[39m\u001b[38;5;124m\"\u001b[39m\n\u001b[1;32m    260\u001b[0m           \u001b[38;5;124m\"\u001b[39m\u001b[38;5;124moption is set, this option does not apply to tf.data functions. \u001b[39m\u001b[38;5;124m\"\u001b[39m\n\u001b[1;32m    261\u001b[0m           \u001b[38;5;124m\"\u001b[39m\u001b[38;5;124mTo force eager execution of tf.data functions, please use \u001b[39m\u001b[38;5;124m\"\u001b[39m\n\u001b[1;32m    262\u001b[0m           \u001b[38;5;124m\"\u001b[39m\u001b[38;5;124m`tf.data.experimental.enable_debug_mode()`.\u001b[39m\u001b[38;5;124m\"\u001b[39m)\n\u001b[1;32m    263\u001b[0m     fn_factory \u001b[38;5;241m=\u001b[39m trace_tf_function(defun_kwargs)\n\u001b[0;32m--> 265\u001b[0m \u001b[38;5;28mself\u001b[39m\u001b[38;5;241m.\u001b[39m_function \u001b[38;5;241m=\u001b[39m \u001b[43mfn_factory\u001b[49m\u001b[43m(\u001b[49m\u001b[43m)\u001b[49m\n\u001b[1;32m    266\u001b[0m \u001b[38;5;66;03m# There is no graph to add in eager mode.\u001b[39;00m\n\u001b[1;32m    267\u001b[0m add_to_graph \u001b[38;5;241m&\u001b[39m\u001b[38;5;241m=\u001b[39m \u001b[38;5;129;01mnot\u001b[39;00m context\u001b[38;5;241m.\u001b[39mexecuting_eagerly()\n",
      "File \u001b[0;32m~/Desktop/FinSearchRL/venv/lib/python3.9/site-packages/tensorflow/python/eager/polymorphic_function/polymorphic_function.py:1251\u001b[0m, in \u001b[0;36mFunction.get_concrete_function\u001b[0;34m(self, *args, **kwargs)\u001b[0m\n\u001b[1;32m   1249\u001b[0m \u001b[38;5;28;01mdef\u001b[39;00m \u001b[38;5;21mget_concrete_function\u001b[39m(\u001b[38;5;28mself\u001b[39m, \u001b[38;5;241m*\u001b[39margs, \u001b[38;5;241m*\u001b[39m\u001b[38;5;241m*\u001b[39mkwargs):\n\u001b[1;32m   1250\u001b[0m   \u001b[38;5;66;03m# Implements PolymorphicFunction.get_concrete_function.\u001b[39;00m\n\u001b[0;32m-> 1251\u001b[0m   concrete \u001b[38;5;241m=\u001b[39m \u001b[38;5;28;43mself\u001b[39;49m\u001b[38;5;241;43m.\u001b[39;49m\u001b[43m_get_concrete_function_garbage_collected\u001b[49m\u001b[43m(\u001b[49m\u001b[38;5;241;43m*\u001b[39;49m\u001b[43margs\u001b[49m\u001b[43m,\u001b[49m\u001b[43m \u001b[49m\u001b[38;5;241;43m*\u001b[39;49m\u001b[38;5;241;43m*\u001b[39;49m\u001b[43mkwargs\u001b[49m\u001b[43m)\u001b[49m\n\u001b[1;32m   1252\u001b[0m   concrete\u001b[38;5;241m.\u001b[39m_garbage_collector\u001b[38;5;241m.\u001b[39mrelease()  \u001b[38;5;66;03m# pylint: disable=protected-access\u001b[39;00m\n\u001b[1;32m   1253\u001b[0m   \u001b[38;5;28;01mreturn\u001b[39;00m concrete\n",
      "File \u001b[0;32m~/Desktop/FinSearchRL/venv/lib/python3.9/site-packages/tensorflow/python/eager/polymorphic_function/polymorphic_function.py:1221\u001b[0m, in \u001b[0;36mFunction._get_concrete_function_garbage_collected\u001b[0;34m(self, *args, **kwargs)\u001b[0m\n\u001b[1;32m   1219\u001b[0m   \u001b[38;5;28;01mif\u001b[39;00m \u001b[38;5;28mself\u001b[39m\u001b[38;5;241m.\u001b[39m_variable_creation_config \u001b[38;5;129;01mis\u001b[39;00m \u001b[38;5;28;01mNone\u001b[39;00m:\n\u001b[1;32m   1220\u001b[0m     initializers \u001b[38;5;241m=\u001b[39m []\n\u001b[0;32m-> 1221\u001b[0m     \u001b[38;5;28;43mself\u001b[39;49m\u001b[38;5;241;43m.\u001b[39;49m\u001b[43m_initialize\u001b[49m\u001b[43m(\u001b[49m\u001b[43margs\u001b[49m\u001b[43m,\u001b[49m\u001b[43m \u001b[49m\u001b[43mkwargs\u001b[49m\u001b[43m,\u001b[49m\u001b[43m \u001b[49m\u001b[43madd_initializers_to\u001b[49m\u001b[38;5;241;43m=\u001b[39;49m\u001b[43minitializers\u001b[49m\u001b[43m)\u001b[49m\n\u001b[1;32m   1222\u001b[0m     \u001b[38;5;28mself\u001b[39m\u001b[38;5;241m.\u001b[39m_initialize_uninitialized_variables(initializers)\n\u001b[1;32m   1224\u001b[0m \u001b[38;5;28;01mif\u001b[39;00m \u001b[38;5;28mself\u001b[39m\u001b[38;5;241m.\u001b[39m_created_variables:\n\u001b[1;32m   1225\u001b[0m   \u001b[38;5;66;03m# In this case we have created variables on the first call, so we run the\u001b[39;00m\n\u001b[1;32m   1226\u001b[0m   \u001b[38;5;66;03m# version which is guaranteed to never create variables.\u001b[39;00m\n",
      "File \u001b[0;32m~/Desktop/FinSearchRL/venv/lib/python3.9/site-packages/tensorflow/python/eager/polymorphic_function/polymorphic_function.py:696\u001b[0m, in \u001b[0;36mFunction._initialize\u001b[0;34m(self, args, kwds, add_initializers_to)\u001b[0m\n\u001b[1;32m    691\u001b[0m \u001b[38;5;28mself\u001b[39m\u001b[38;5;241m.\u001b[39m_variable_creation_config \u001b[38;5;241m=\u001b[39m \u001b[38;5;28mself\u001b[39m\u001b[38;5;241m.\u001b[39m_generate_scoped_tracing_options(\n\u001b[1;32m    692\u001b[0m     variable_capturing_scope,\n\u001b[1;32m    693\u001b[0m     tracing_compilation\u001b[38;5;241m.\u001b[39mScopeType\u001b[38;5;241m.\u001b[39mVARIABLE_CREATION,\n\u001b[1;32m    694\u001b[0m )\n\u001b[1;32m    695\u001b[0m \u001b[38;5;66;03m# Force the definition of the function for these arguments\u001b[39;00m\n\u001b[0;32m--> 696\u001b[0m \u001b[38;5;28mself\u001b[39m\u001b[38;5;241m.\u001b[39m_concrete_variable_creation_fn \u001b[38;5;241m=\u001b[39m \u001b[43mtracing_compilation\u001b[49m\u001b[38;5;241;43m.\u001b[39;49m\u001b[43mtrace_function\u001b[49m\u001b[43m(\u001b[49m\n\u001b[1;32m    697\u001b[0m \u001b[43m    \u001b[49m\u001b[43margs\u001b[49m\u001b[43m,\u001b[49m\u001b[43m \u001b[49m\u001b[43mkwds\u001b[49m\u001b[43m,\u001b[49m\u001b[43m \u001b[49m\u001b[38;5;28;43mself\u001b[39;49m\u001b[38;5;241;43m.\u001b[39;49m\u001b[43m_variable_creation_config\u001b[49m\n\u001b[1;32m    698\u001b[0m \u001b[43m\u001b[49m\u001b[43m)\u001b[49m\n\u001b[1;32m    700\u001b[0m \u001b[38;5;28;01mdef\u001b[39;00m \u001b[38;5;21minvalid_creator_scope\u001b[39m(\u001b[38;5;241m*\u001b[39munused_args, \u001b[38;5;241m*\u001b[39m\u001b[38;5;241m*\u001b[39munused_kwds):\n\u001b[1;32m    701\u001b[0m \u001b[38;5;250m  \u001b[39m\u001b[38;5;124;03m\"\"\"Disables variable creation.\"\"\"\u001b[39;00m\n",
      "File \u001b[0;32m~/Desktop/FinSearchRL/venv/lib/python3.9/site-packages/tensorflow/python/eager/polymorphic_function/tracing_compilation.py:178\u001b[0m, in \u001b[0;36mtrace_function\u001b[0;34m(args, kwargs, tracing_options)\u001b[0m\n\u001b[1;32m    175\u001b[0m     args \u001b[38;5;241m=\u001b[39m tracing_options\u001b[38;5;241m.\u001b[39minput_signature\n\u001b[1;32m    176\u001b[0m     kwargs \u001b[38;5;241m=\u001b[39m {}\n\u001b[0;32m--> 178\u001b[0m   concrete_function \u001b[38;5;241m=\u001b[39m \u001b[43m_maybe_define_function\u001b[49m\u001b[43m(\u001b[49m\n\u001b[1;32m    179\u001b[0m \u001b[43m      \u001b[49m\u001b[43margs\u001b[49m\u001b[43m,\u001b[49m\u001b[43m \u001b[49m\u001b[43mkwargs\u001b[49m\u001b[43m,\u001b[49m\u001b[43m \u001b[49m\u001b[43mtracing_options\u001b[49m\n\u001b[1;32m    180\u001b[0m \u001b[43m  \u001b[49m\u001b[43m)\u001b[49m\n\u001b[1;32m    182\u001b[0m \u001b[38;5;28;01mif\u001b[39;00m \u001b[38;5;129;01mnot\u001b[39;00m tracing_options\u001b[38;5;241m.\u001b[39mbind_graph_to_function:\n\u001b[1;32m    183\u001b[0m   concrete_function\u001b[38;5;241m.\u001b[39m_garbage_collector\u001b[38;5;241m.\u001b[39mrelease()  \u001b[38;5;66;03m# pylint: disable=protected-access\u001b[39;00m\n",
      "File \u001b[0;32m~/Desktop/FinSearchRL/venv/lib/python3.9/site-packages/tensorflow/python/eager/polymorphic_function/tracing_compilation.py:283\u001b[0m, in \u001b[0;36m_maybe_define_function\u001b[0;34m(args, kwargs, tracing_options)\u001b[0m\n\u001b[1;32m    281\u001b[0m \u001b[38;5;28;01melse\u001b[39;00m:\n\u001b[1;32m    282\u001b[0m   target_func_type \u001b[38;5;241m=\u001b[39m lookup_func_type\n\u001b[0;32m--> 283\u001b[0m concrete_function \u001b[38;5;241m=\u001b[39m \u001b[43m_create_concrete_function\u001b[49m\u001b[43m(\u001b[49m\n\u001b[1;32m    284\u001b[0m \u001b[43m    \u001b[49m\u001b[43mtarget_func_type\u001b[49m\u001b[43m,\u001b[49m\u001b[43m \u001b[49m\u001b[43mlookup_func_context\u001b[49m\u001b[43m,\u001b[49m\u001b[43m \u001b[49m\u001b[43mfunc_graph\u001b[49m\u001b[43m,\u001b[49m\u001b[43m \u001b[49m\u001b[43mtracing_options\u001b[49m\n\u001b[1;32m    285\u001b[0m \u001b[43m\u001b[49m\u001b[43m)\u001b[49m\n\u001b[1;32m    287\u001b[0m \u001b[38;5;28;01mif\u001b[39;00m tracing_options\u001b[38;5;241m.\u001b[39mfunction_cache \u001b[38;5;129;01mis\u001b[39;00m \u001b[38;5;129;01mnot\u001b[39;00m \u001b[38;5;28;01mNone\u001b[39;00m:\n\u001b[1;32m    288\u001b[0m   tracing_options\u001b[38;5;241m.\u001b[39mfunction_cache\u001b[38;5;241m.\u001b[39madd(\n\u001b[1;32m    289\u001b[0m       concrete_function, current_func_context\n\u001b[1;32m    290\u001b[0m   )\n",
      "File \u001b[0;32m~/Desktop/FinSearchRL/venv/lib/python3.9/site-packages/tensorflow/python/eager/polymorphic_function/tracing_compilation.py:310\u001b[0m, in \u001b[0;36m_create_concrete_function\u001b[0;34m(function_type, type_context, func_graph, tracing_options)\u001b[0m\n\u001b[1;32m    303\u001b[0m   placeholder_bound_args \u001b[38;5;241m=\u001b[39m function_type\u001b[38;5;241m.\u001b[39mplaceholder_arguments(\n\u001b[1;32m    304\u001b[0m       placeholder_context\n\u001b[1;32m    305\u001b[0m   )\n\u001b[1;32m    307\u001b[0m disable_acd \u001b[38;5;241m=\u001b[39m tracing_options\u001b[38;5;241m.\u001b[39mattributes \u001b[38;5;129;01mand\u001b[39;00m tracing_options\u001b[38;5;241m.\u001b[39mattributes\u001b[38;5;241m.\u001b[39mget(\n\u001b[1;32m    308\u001b[0m     attributes_lib\u001b[38;5;241m.\u001b[39mDISABLE_ACD, \u001b[38;5;28;01mFalse\u001b[39;00m\n\u001b[1;32m    309\u001b[0m )\n\u001b[0;32m--> 310\u001b[0m traced_func_graph \u001b[38;5;241m=\u001b[39m \u001b[43mfunc_graph_module\u001b[49m\u001b[38;5;241;43m.\u001b[39;49m\u001b[43mfunc_graph_from_py_func\u001b[49m\u001b[43m(\u001b[49m\n\u001b[1;32m    311\u001b[0m \u001b[43m    \u001b[49m\u001b[43mtracing_options\u001b[49m\u001b[38;5;241;43m.\u001b[39;49m\u001b[43mname\u001b[49m\u001b[43m,\u001b[49m\n\u001b[1;32m    312\u001b[0m \u001b[43m    \u001b[49m\u001b[43mtracing_options\u001b[49m\u001b[38;5;241;43m.\u001b[39;49m\u001b[43mpython_function\u001b[49m\u001b[43m,\u001b[49m\n\u001b[1;32m    313\u001b[0m \u001b[43m    \u001b[49m\u001b[43mplaceholder_bound_args\u001b[49m\u001b[38;5;241;43m.\u001b[39;49m\u001b[43margs\u001b[49m\u001b[43m,\u001b[49m\n\u001b[1;32m    314\u001b[0m \u001b[43m    \u001b[49m\u001b[43mplaceholder_bound_args\u001b[49m\u001b[38;5;241;43m.\u001b[39;49m\u001b[43mkwargs\u001b[49m\u001b[43m,\u001b[49m\n\u001b[1;32m    315\u001b[0m \u001b[43m    \u001b[49m\u001b[38;5;28;43;01mNone\u001b[39;49;00m\u001b[43m,\u001b[49m\n\u001b[1;32m    316\u001b[0m \u001b[43m    \u001b[49m\u001b[43mfunc_graph\u001b[49m\u001b[38;5;241;43m=\u001b[39;49m\u001b[43mfunc_graph\u001b[49m\u001b[43m,\u001b[49m\n\u001b[1;32m    317\u001b[0m \u001b[43m    \u001b[49m\u001b[43madd_control_dependencies\u001b[49m\u001b[38;5;241;43m=\u001b[39;49m\u001b[38;5;129;43;01mnot\u001b[39;49;00m\u001b[43m \u001b[49m\u001b[43mdisable_acd\u001b[49m\u001b[43m,\u001b[49m\n\u001b[1;32m    318\u001b[0m \u001b[43m    \u001b[49m\u001b[43marg_names\u001b[49m\u001b[38;5;241;43m=\u001b[39;49m\u001b[43mfunction_type_utils\u001b[49m\u001b[38;5;241;43m.\u001b[39;49m\u001b[43mto_arg_names\u001b[49m\u001b[43m(\u001b[49m\u001b[43mfunction_type\u001b[49m\u001b[43m)\u001b[49m\u001b[43m,\u001b[49m\n\u001b[1;32m    319\u001b[0m \u001b[43m    \u001b[49m\u001b[43mcreate_placeholders\u001b[49m\u001b[38;5;241;43m=\u001b[39;49m\u001b[38;5;28;43;01mFalse\u001b[39;49;00m\u001b[43m,\u001b[49m\n\u001b[1;32m    320\u001b[0m \u001b[43m\u001b[49m\u001b[43m)\u001b[49m\n\u001b[1;32m    322\u001b[0m transform\u001b[38;5;241m.\u001b[39mapply_func_graph_transforms(traced_func_graph)\n\u001b[1;32m    324\u001b[0m graph_capture_container \u001b[38;5;241m=\u001b[39m traced_func_graph\u001b[38;5;241m.\u001b[39mfunction_captures\n",
      "File \u001b[0;32m~/Desktop/FinSearchRL/venv/lib/python3.9/site-packages/tensorflow/python/framework/func_graph.py:1106\u001b[0m, in \u001b[0;36mfunc_graph_from_py_func\u001b[0;34m(name, python_func, args, kwargs, signature, func_graph, add_control_dependencies, arg_names, op_return_value, collections, capture_by_value, create_placeholders)\u001b[0m\n\u001b[1;32m   1100\u001b[0m   \u001b[38;5;66;03m# Returning a closed-over tensor does not trigger convert_to_tensor.\u001b[39;00m\n\u001b[1;32m   1101\u001b[0m   func_graph\u001b[38;5;241m.\u001b[39moutputs\u001b[38;5;241m.\u001b[39mextend(\n\u001b[1;32m   1102\u001b[0m       func_graph\u001b[38;5;241m.\u001b[39mcapture(x)\n\u001b[1;32m   1103\u001b[0m       \u001b[38;5;28;01mfor\u001b[39;00m x \u001b[38;5;129;01min\u001b[39;00m flatten(func_graph\u001b[38;5;241m.\u001b[39mstructured_outputs)\n\u001b[1;32m   1104\u001b[0m       \u001b[38;5;28;01mif\u001b[39;00m x \u001b[38;5;129;01mis\u001b[39;00m \u001b[38;5;129;01mnot\u001b[39;00m \u001b[38;5;28;01mNone\u001b[39;00m)\n\u001b[0;32m-> 1106\u001b[0m   func_graph\u001b[38;5;241m.\u001b[39mvariables \u001b[38;5;241m=\u001b[39m func_graph\u001b[38;5;241m.\u001b[39m_watched_variables  \u001b[38;5;66;03m# pylint: disable=protected-access\u001b[39;00m\n\u001b[1;32m   1108\u001b[0m \u001b[38;5;28;01mif\u001b[39;00m add_control_dependencies:\n\u001b[1;32m   1109\u001b[0m   func_graph\u001b[38;5;241m.\u001b[39mcontrol_outputs\u001b[38;5;241m.\u001b[39mextend(deps_control_manager\u001b[38;5;241m.\u001b[39mops_which_must_run)\n",
      "File \u001b[0;32m~/Desktop/FinSearchRL/venv/lib/python3.9/site-packages/tensorflow/python/framework/auto_control_deps.py:459\u001b[0m, in \u001b[0;36mAutomaticControlDependencies.__exit__\u001b[0;34m(self, unused_type, unused_value, unused_traceback)\u001b[0m\n\u001b[1;32m    456\u001b[0m resource_inputs \u001b[38;5;241m=\u001b[39m \u001b[38;5;28mset\u001b[39m()\n\u001b[1;32m    457\u001b[0m \u001b[38;5;66;03m# Check for any resource inputs. If we find any, we update control_inputs\u001b[39;00m\n\u001b[1;32m    458\u001b[0m \u001b[38;5;66;03m# and last_write_to_resource.\u001b[39;00m\n\u001b[0;32m--> 459\u001b[0m \u001b[38;5;28;01mfor\u001b[39;00m inp, resource_type \u001b[38;5;129;01min\u001b[39;00m _get_resource_inputs(op):\n\u001b[1;32m    460\u001b[0m   is_read \u001b[38;5;241m=\u001b[39m resource_type \u001b[38;5;241m==\u001b[39m ResourceType\u001b[38;5;241m.\u001b[39mREAD_ONLY\n\u001b[1;32m    461\u001b[0m   input_id \u001b[38;5;241m=\u001b[39m ops\u001b[38;5;241m.\u001b[39mtensor_id(inp)\n",
      "File \u001b[0;32m~/Desktop/FinSearchRL/venv/lib/python3.9/site-packages/tensorflow/python/framework/auto_control_deps.py:608\u001b[0m, in \u001b[0;36m_get_resource_inputs\u001b[0;34m(op)\u001b[0m\n\u001b[1;32m    606\u001b[0m \u001b[38;5;28;01mdef\u001b[39;00m \u001b[38;5;21m_get_resource_inputs\u001b[39m(op):\n\u001b[1;32m    607\u001b[0m \u001b[38;5;250m  \u001b[39m\u001b[38;5;124;03m\"\"\"Returns an iterable of resources touched by this `op`.\"\"\"\u001b[39;00m\n\u001b[0;32m--> 608\u001b[0m   reads, writes \u001b[38;5;241m=\u001b[39m \u001b[43mutils\u001b[49m\u001b[38;5;241;43m.\u001b[39;49m\u001b[43mget_read_write_resource_inputs\u001b[49m\u001b[43m(\u001b[49m\u001b[43mop\u001b[49m\u001b[43m)\u001b[49m\n\u001b[1;32m    609\u001b[0m   saturated \u001b[38;5;241m=\u001b[39m \u001b[38;5;28;01mFalse\u001b[39;00m\n\u001b[1;32m    610\u001b[0m   \u001b[38;5;28;01mwhile\u001b[39;00m \u001b[38;5;129;01mnot\u001b[39;00m saturated:\n",
      "File \u001b[0;32m~/Desktop/FinSearchRL/venv/lib/python3.9/site-packages/tensorflow/python/framework/auto_control_deps_utils.py:105\u001b[0m, in \u001b[0;36mget_read_write_resource_inputs\u001b[0;34m(op)\u001b[0m\n\u001b[1;32m    102\u001b[0m   \u001b[38;5;28;01mreturn\u001b[39;00m (reads, writes)\n\u001b[1;32m    104\u001b[0m \u001b[38;5;28;01mtry\u001b[39;00m:\n\u001b[0;32m--> 105\u001b[0m   read_only_input_indices \u001b[38;5;241m=\u001b[39m \u001b[43mop\u001b[49m\u001b[38;5;241;43m.\u001b[39;49m\u001b[43mget_attr\u001b[49m\u001b[43m(\u001b[49m\u001b[43mREAD_ONLY_RESOURCE_INPUTS_ATTR\u001b[49m\u001b[43m)\u001b[49m\n\u001b[1;32m    106\u001b[0m \u001b[38;5;28;01mexcept\u001b[39;00m \u001b[38;5;167;01mValueError\u001b[39;00m:\n\u001b[1;32m    107\u001b[0m   \u001b[38;5;66;03m# Attr was not set. Add all resource inputs to `writes` and return.\u001b[39;00m\n\u001b[1;32m    108\u001b[0m   writes\u001b[38;5;241m.\u001b[39mupdate(t \u001b[38;5;28;01mfor\u001b[39;00m t \u001b[38;5;129;01min\u001b[39;00m op\u001b[38;5;241m.\u001b[39minputs \u001b[38;5;28;01mif\u001b[39;00m t\u001b[38;5;241m.\u001b[39mdtype \u001b[38;5;241m==\u001b[39m dtypes\u001b[38;5;241m.\u001b[39mresource)\n",
      "File \u001b[0;32m~/Desktop/FinSearchRL/venv/lib/python3.9/site-packages/tensorflow/python/framework/ops.py:1562\u001b[0m, in \u001b[0;36mOperation.get_attr\u001b[0;34m(self, name)\u001b[0m\n\u001b[1;32m   1560\u001b[0m fields \u001b[38;5;241m=\u001b[39m (\u001b[38;5;124m\"\u001b[39m\u001b[38;5;124ms\u001b[39m\u001b[38;5;124m\"\u001b[39m, \u001b[38;5;124m\"\u001b[39m\u001b[38;5;124mi\u001b[39m\u001b[38;5;124m\"\u001b[39m, \u001b[38;5;124m\"\u001b[39m\u001b[38;5;124mf\u001b[39m\u001b[38;5;124m\"\u001b[39m, \u001b[38;5;124m\"\u001b[39m\u001b[38;5;124mb\u001b[39m\u001b[38;5;124m\"\u001b[39m, \u001b[38;5;124m\"\u001b[39m\u001b[38;5;124mtype\u001b[39m\u001b[38;5;124m\"\u001b[39m, \u001b[38;5;124m\"\u001b[39m\u001b[38;5;124mshape\u001b[39m\u001b[38;5;124m\"\u001b[39m, \u001b[38;5;124m\"\u001b[39m\u001b[38;5;124mtensor\u001b[39m\u001b[38;5;124m\"\u001b[39m, \u001b[38;5;124m\"\u001b[39m\u001b[38;5;124mfunc\u001b[39m\u001b[38;5;124m\"\u001b[39m)\n\u001b[1;32m   1561\u001b[0m \u001b[38;5;28;01mtry\u001b[39;00m:\n\u001b[0;32m-> 1562\u001b[0m   \u001b[38;5;28;01mwith\u001b[39;00m c_api_util\u001b[38;5;241m.\u001b[39mtf_buffer() \u001b[38;5;28;01mas\u001b[39;00m buf:   \u001b[38;5;66;03m# pytype: disable=wrong-arg-count\u001b[39;00m\n\u001b[1;32m   1563\u001b[0m     pywrap_tf_session\u001b[38;5;241m.\u001b[39mTF_OperationGetAttrValueProto(\u001b[38;5;28mself\u001b[39m\u001b[38;5;241m.\u001b[39m_c_op, name, buf)\n\u001b[1;32m   1564\u001b[0m     data \u001b[38;5;241m=\u001b[39m pywrap_tf_session\u001b[38;5;241m.\u001b[39mTF_GetBuffer(buf)\n",
      "File \u001b[0;32m/Library/Developer/CommandLineTools/Library/Frameworks/Python3.framework/Versions/3.9/lib/python3.9/contextlib.py:117\u001b[0m, in \u001b[0;36m_GeneratorContextManager.__enter__\u001b[0;34m(self)\u001b[0m\n\u001b[1;32m    115\u001b[0m \u001b[38;5;28;01mdel\u001b[39;00m \u001b[38;5;28mself\u001b[39m\u001b[38;5;241m.\u001b[39margs, \u001b[38;5;28mself\u001b[39m\u001b[38;5;241m.\u001b[39mkwds, \u001b[38;5;28mself\u001b[39m\u001b[38;5;241m.\u001b[39mfunc\n\u001b[1;32m    116\u001b[0m \u001b[38;5;28;01mtry\u001b[39;00m:\n\u001b[0;32m--> 117\u001b[0m     \u001b[38;5;28;01mreturn\u001b[39;00m \u001b[38;5;28;43mnext\u001b[39;49m\u001b[43m(\u001b[49m\u001b[38;5;28;43mself\u001b[39;49m\u001b[38;5;241;43m.\u001b[39;49m\u001b[43mgen\u001b[49m\u001b[43m)\u001b[49m\n\u001b[1;32m    118\u001b[0m \u001b[38;5;28;01mexcept\u001b[39;00m \u001b[38;5;167;01mStopIteration\u001b[39;00m:\n\u001b[1;32m    119\u001b[0m     \u001b[38;5;28;01mraise\u001b[39;00m \u001b[38;5;167;01mRuntimeError\u001b[39;00m(\u001b[38;5;124m\"\u001b[39m\u001b[38;5;124mgenerator didn\u001b[39m\u001b[38;5;124m'\u001b[39m\u001b[38;5;124mt yield\u001b[39m\u001b[38;5;124m\"\u001b[39m) \u001b[38;5;28;01mfrom\u001b[39;00m \u001b[38;5;28;01mNone\u001b[39;00m\n",
      "File \u001b[0;32m~/Desktop/FinSearchRL/venv/lib/python3.9/site-packages/tensorflow/python/framework/c_api_util.py:217\u001b[0m, in \u001b[0;36mtf_buffer\u001b[0;34m(data)\u001b[0m\n\u001b[1;32m    215\u001b[0m   buf \u001b[38;5;241m=\u001b[39m c_api\u001b[38;5;241m.\u001b[39mTF_NewBufferFromString(compat\u001b[38;5;241m.\u001b[39mas_bytes(data))\n\u001b[1;32m    216\u001b[0m \u001b[38;5;28;01melse\u001b[39;00m:\n\u001b[0;32m--> 217\u001b[0m   buf \u001b[38;5;241m=\u001b[39m \u001b[43mc_api\u001b[49m\u001b[38;5;241;43m.\u001b[39;49m\u001b[43mTF_NewBuffer\u001b[49m()\n\u001b[1;32m    218\u001b[0m \u001b[38;5;28;01mtry\u001b[39;00m:\n\u001b[1;32m    219\u001b[0m   \u001b[38;5;28;01myield\u001b[39;00m buf\n",
      "\u001b[0;31mKeyboardInterrupt\u001b[0m: "
     ]
    }
   ],
   "source": [
    "critic_loss_history = []\n",
    "rewards_history = []\n",
    "for i in range(max_iters + 400):\n",
    "    action_count = [0, 0, 0]\n",
    "    env.reset()\n",
    "    rewards_sum = 0\n",
    "    while not env.is_end():\n",
    "        curr_state = env.state\n",
    "        random_num = np.random.rand()\n",
    "        if random_num < epsilon:\n",
    "            action = np.random.choice(action_space)\n",
    "        else:\n",
    "            action = np.argmax(critic_model_final.predict(env.state.reshape((-1, 3)), verbose = 0))\n",
    "        action_count[action] += 1\n",
    "        next_state, reward, end = env.step(action)\n",
    "        rewards_sum += reward\n",
    "\n",
    "        quadruple = (curr_state, action, reward, next_state, end)\n",
    "        buffer.append(quadruple)\n",
    "        if len(buffer) > buffer_size:\n",
    "            buffer.pop(0)\n",
    "\n",
    "    rewards_history.append(rewards_sum)\n",
    "    \n",
    "    sample_indices = np.random.choice(len(buffer), size=min(50, len(buffer)), replace=False)\n",
    "    train_sample = [buffer[idx] for idx in sample_indices]\n",
    "    epsilon = max(epsilon * epsilon_decay, 0.1)\n",
    "\n",
    "    critic_loss = 0\n",
    "    for quadrup in train_sample:\n",
    "        curr_state, action, reward, next_state, end = quadrup\n",
    "        curr_q = critic_model_final.predict(curr_state.reshape((-1, 3)), verbose = 0)\n",
    "        next_state_q_vals = critic_model_final.predict(next_state.reshape((-1, 3)), verbose = 0)\n",
    "        target_q_val = reward + gamma * np.max(next_state_q_vals)\n",
    "        target_q = copy(curr_q)\n",
    "        target_q[0][action] = target_q_val\n",
    "\n",
    "        history = critic_model.fit(curr_state.reshape((-1, 3)), target_q, verbose = 0)\n",
    "        critic_loss += history.history['loss'][0]\n",
    "    \n",
    "    critic_loss /= len(train_sample)\n",
    "    critic_loss_history.append(critic_loss)\n",
    "\n",
    "    if i % 10 == 0:\n",
    "        critic_model_final.set_weights(critic_model.get_weights())\n",
    "        critic_model_final.save_weights(\"trained.weights.h5\")\n",
    "    print(i, \"-> LOSS:\", critic_loss, \"-> REWARD:\", rewards_sum, \"-> Action count:\", action_count)\n"
   ]
  },
  {
   "cell_type": "code",
   "execution_count": 257,
   "metadata": {},
   "outputs": [],
   "source": [
    "critic_model_final.save_weights(\"best_trained.weights.h5\")"
   ]
  },
  {
   "cell_type": "code",
   "execution_count": 258,
   "metadata": {},
   "outputs": [
    {
     "data": {
      "text/plain": [
       "[<matplotlib.lines.Line2D at 0x30cb42130>]"
      ]
     },
     "execution_count": 258,
     "metadata": {},
     "output_type": "execute_result"
    },
    {
     "data": {
      "image/png": "[encoded data removed]",
      "text/plain": [
       "<Figure size 640x480 with 1 Axes>"
      ]
     },
     "metadata": {},
     "output_type": "display_data"
    }
   ],
   "source": [
    "plt.plot(rewards_history)"
   ]
  },
  {
   "cell_type": "code",
   "execution_count": 259,
   "metadata": {},
   "outputs": [
    {
     "data": {
      "text/plain": [
       "[<matplotlib.lines.Line2D at 0x30c925ca0>]"
      ]
     },
     "execution_count": 259,
     "metadata": {},
     "output_type": "execute_result"
    },
    {
     "data": {
      "image/png": "[encoded data removed]",
      "text/plain": [
       "<Figure size 640x480 with 1 Axes>"
      ]
     },
     "metadata": {},
     "output_type": "display_data"
    }
   ],
   "source": [
    "plt.plot(critic_loss_history)"
   ]
  },
  {
   "cell_type": "code",
   "execution_count": 260,
   "metadata": {},
   "outputs": [
    {
     "name": "stdout",
     "output_type": "stream",
     "text": [
      "-0.02360708435819754\n",
      "[0, 1, 1, 1, 1, 1, 1, 1, 1, 1, 1, 1, 1, 1, 1, 1, 1, 1, 1, 1, 1, 1, 1, 1, 1, 1, 1, 1, 1, 1, 1, 1, 1, 1, 1, 1, 1, 1, 1, 1, 1, 1, 1, 1, 1, 1, 1, 1, 1, 1, 1, 1, 1, 1, 1, 1, 1, 1, 1, 1, 1, 1, 1, 1, 1, 1, 1, 1, 1, 1, 1, 1, 1, 1, 1, 1, 1, 1, 1, 1, 1, 1, 1, 1, 1, 1, 1, 1, 1, 1, 1, 1, 1, 1, 1, 1, 1, 1, 1, 1, 1, 1, 1, 1, 1, 1, 1, 1, 1, 1, 1, 1, 1, 1, 1, 1, 1, 1, 1, 1, 1, 1, 1, 1, 1, 1, 1, 1, 1, 1, 1, 1, 1, 1, 1, 1, 1, 1, 1, 1, 1, 1, 1, 1, 1, 1, 1, 1, 1, 1, 1, 1, 1, 1, 1, 1, 1, 1, 1, 1, 1, 1, 1, 1, 1, 1, 1, 1, 1, 1, 1, 1, 1, 1, 1, 1, 1, 1, 1, 1, 1, 1, 1, 1, 1, 1, 1, 1, 1, 1, 1, 1, 1, 1, 1, 1, 1, 1, 1, 1, 1, 1, 1, 1, 1, 1, 1, 1, 1, 1, 1, 1, 1, 1, 1, 1, 1, 1, 1, 1, 1, 1, 1, 1, 1, 1, 1, 1, 1, 1, 1, 1, 1, 1, 1, 1, 1, 1, 1, 1, 1, 1, 1, 1, 1, 1, 1, 1, 1, 1, 1, 1, 1, 1, 1, 1, 1, 1, 1, 1, 1, 1, 1, 1, 1, 1, 1, 1, 1, 1, 1, 1, 1, 1, 1, 1, 1, 1, 1, 1, 1, 1, 1, 1, 1, 1, 1, 1, 1, 1, 1, 1, 1, 1, 1, 1, 1, 1, 1, 1, 1, 1, 1, 1, 1, 1, 1, 1, 1, 1, 1, 1, 1, 1, 1, 1, 1, 1, 1, 1, 1, 1, 1, 1, 1, 1, 1, 1, 1, 1, 1, 1, 1, 1, 1, 1, 1, 1, 1, 1, 1, 1, 1, 1, 1, 1, 1, 1, 1, 1, 1, 1, 1, 1, 1, 1, 1, 1, 1, 1, 1, 1, 1, 1, 1, 1, 1, 1, 1, 1, 1, 1, 1, 1, 1, 1, 1, 1, 1, 1, 1, 1, 1, 1, 1, 1, 1, 1, 1, 1, 1, 1, 1, 1, 1, 1, 1, 1, 1, 1, 1, 1, 1, 1, 1, 1, 1, 1, 1, 1, 1, 1, 1, 1, 1, 1, 1, 1, 1, 1, 1, 1, 1, 1, 1, 1, 1, 1, 1, 1, 1, 1, 1, 1, 1, 1, 1, 1, 1, 1, 1, 1, 1, 1, 1, 1, 1, 1, 1, 1, 1, 1, 1, 1, 1, 1, 1, 1, 1, 1, 1, 1, 1, 1, 1, 1, 1, 1, 1, 1, 1, 1, 1, 1, 1, 1, 1, 1, 1, 1, 1, 1, 1, 1, 1, 1, 1, 1, 1, 1, 1, 1, 1, 1, 1, 1, 1, 1, 1, 1, 1, 1, 1, 1, 1, 1, 1, 1, 1, 1, 1, 1, 1, 1, 1, 1, 1, 1, 1, 1, 1, 1, 1, 1, 1, 1, 1, 1, 1, 1, 1, 1, 1, 1, 1, 1, 1, 1, 1, 1, 1, 1, 1, 1, 1, 1, 1, 1, 1, 1, 1, 1, 1, 1, 1, 1, 1, 1, 1, 1, 1, 1, 1, 1, 1, 1, 1, 1, 1, 1, 1, 1, 1, 1, 1, 1, 1, 1, 1, 1, 1, 1, 1, 1, 1, 1, 1, 1, 1, 1, 1, 1, 1, 1, 1, 1, 1, 1, 1]\n"
     ]
    }
   ],
   "source": [
    "action_count = [0, 0, 0]\n",
    "env.reset()\n",
    "rewards_sum = 0\n",
    "stock_history = []\n",
    "while not env.is_end():\n",
    "    curr_state = env.state\n",
    "    action = np.argmax(critic_model_final.predict(env.state.reshape((-1, 3)), verbose = 0))\n",
    "    action_count[action] += 1\n",
    "    stock_history.append(env.stocks)\n",
    "    next_state, reward, end = env.step(action)\n",
    "    rewards_sum += reward\n",
    "print(rewards_sum)\n",
    "print(stock_history)"
   ]
  },
  {
   "cell_type": "code",
   "execution_count": 261,
   "metadata": {},
   "outputs": [
    {
     "name": "stdout",
     "output_type": "stream",
     "text": [
      "0.1177831996015575\n",
      "0.09417611524335999\n"
     ]
    }
   ],
   "source": [
    "print(env.starting_balance)\n",
    "print(env.portfolio)"
   ]
  }
 ],
 "metadata": {
  "kernelspec": {
   "display_name": "venv",
   "language": "python",
   "name": "python3"
  },
  "language_info": {
   "codemirror_mode": {
    "name": "ipython",
    "version": 3
   },
   "file_extension": ".py",
   "mimetype": "text/x-python",
   "name": "python",
   "nbconvert_exporter": "python",
   "pygments_lexer": "ipython3",
   "version": "3.9.6"
  }
 },
 "nbformat": 4,
 "nbformat_minor": 2
}
